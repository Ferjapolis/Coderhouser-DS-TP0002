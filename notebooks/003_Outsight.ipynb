{
 "cells": [
  {
   "cell_type": "code",
   "execution_count": 2,
   "metadata": {},
   "outputs": [],
   "source": [
    "import pandas as pd"
   ]
  },
  {
   "cell_type": "code",
   "execution_count": 3,
   "metadata": {},
   "outputs": [],
   "source": [
    "# Importacion de Plotly como libreria de DataViz\n",
    "import plotly.express as px\n",
    "import plotly.graph_objects as go\n",
    "import plotly.figure_factory as ff"
   ]
  },
  {
   "cell_type": "code",
   "execution_count": 4,
   "metadata": {},
   "outputs": [
    {
     "name": "stdout",
     "output_type": "stream",
     "text": [
      "Path base': C:\\develoment\\Coderhouser-DS-TP0002\n"
     ]
    }
   ],
   "source": [
    "import os\n",
    "\n",
    "# Obtiene la ubicación completa del archivo del notebook\n",
    "notebook_path = os.path.realpath('__file__')\n",
    "\n",
    "# Obtiene la ruta absoluta de la carpeta \"Coderhouser-DS-TP0002\" sin importar donde te encuentres\n",
    "path_base = os.path.abspath(os.path.join(notebook_path, \"..\", \"..\", \"..\", \"Coderhouser-DS-TP0002\"))\n",
    "\n",
    "print(\"Path base':\", path_base)"
   ]
  },
  {
   "cell_type": "markdown",
   "metadata": {},
   "source": [
    "#### Leyendo datos:"
   ]
  },
  {
   "cell_type": "code",
   "execution_count": 14,
   "metadata": {},
   "outputs": [],
   "source": [
    "# Generando el Dataframe apartir de los dataset RedTeam y BlueTeam\n",
    "blueTeam = pd.read_csv( path_base + r\"\\\\data\\procesed\\blueTeam.csv\")\n",
    "blueTeam[\"Team\"] = \"Blue\"\n",
    "redTeam = pd.read_csv( path_base + r\"\\\\data\\procesed\\redTeam.csv\")\n",
    "redTeam[\"Team\"] = \"Red\"\n",
    "data = pd.concat([blueTeam,redTeam])"
   ]
  },
  {
   "cell_type": "code",
   "execution_count": 30,
   "metadata": {},
   "outputs": [],
   "source": [
    "# Reemplazar los valores de la columna \"Wins\"\n",
    "data['WinTags'] = data['Wins'].replace({0: 'Loss', 1: 'Win'})\n",
    "\n",
    "# Crear un mapeo de colores\n",
    "color_map = {'Win': 'yellow', 'Loss': 'gray'}"
   ]
  },
  {
   "cell_type": "code",
   "execution_count": 15,
   "metadata": {},
   "outputs": [
    {
     "name": "stdout",
     "output_type": "stream",
     "text": [
      "<class 'pandas.core.frame.DataFrame'>\n",
      "Int64Index: 19758 entries, 0 to 9878\n",
      "Data columns (total 22 columns):\n",
      " #   Column                    Non-Null Count  Dtype  \n",
      "---  ------                    --------------  -----  \n",
      " 0   Unnamed: 0                19758 non-null  int64  \n",
      " 1   Wins                      19758 non-null  int64  \n",
      " 2   WardsPlaced               19758 non-null  int64  \n",
      " 3   WardsDestroyed            19758 non-null  int64  \n",
      " 4   FirstBlood                19758 non-null  int64  \n",
      " 5   Kills                     19758 non-null  int64  \n",
      " 6   Deaths                    19758 non-null  int64  \n",
      " 7   Assists                   19758 non-null  int64  \n",
      " 8   EliteMonsters             19758 non-null  int64  \n",
      " 9   Dragons                   19758 non-null  int64  \n",
      " 10  Heralds                   19758 non-null  int64  \n",
      " 11  TowersDestroyed           19758 non-null  int64  \n",
      " 12  TotalGold                 19758 non-null  int64  \n",
      " 13  AvgLevel                  19758 non-null  float64\n",
      " 14  TotalExperience           19758 non-null  int64  \n",
      " 15  TotalMinionsKilled        19758 non-null  int64  \n",
      " 16  TotalJungleMinionsKilled  19758 non-null  int64  \n",
      " 17  GoldDiff                  19758 non-null  int64  \n",
      " 18  ExperienceDiff            19758 non-null  int64  \n",
      " 19  CSPerMin                  19758 non-null  float64\n",
      " 20  GoldPerMin                19758 non-null  float64\n",
      " 21  Team                      19758 non-null  object \n",
      "dtypes: float64(3), int64(18), object(1)\n",
      "memory usage: 3.5+ MB\n"
     ]
    }
   ],
   "source": [
    "# Detalle de tabla\n",
    "data.info()"
   ]
  }
 ],
 "metadata": {
  "kernelspec": {
   "display_name": "Python 3",
   "language": "python",
   "name": "python3"
  },
  "language_info": {
   "codemirror_mode": {
    "name": "ipython",
    "version": 3
   },
   "file_extension": ".py",
   "mimetype": "text/x-python",
   "name": "python",
   "nbconvert_exporter": "python",
   "pygments_lexer": "ipython3",
   "version": "3.11.0"
  }
 },
 "nbformat": 4,
 "nbformat_minor": 2
}

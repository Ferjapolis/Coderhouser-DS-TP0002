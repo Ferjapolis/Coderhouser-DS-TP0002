{
 "cells": [
  {
   "cell_type": "markdown",
   "metadata": {},
   "source": [
    "#### Montando entorno"
   ]
  },
  {
   "cell_type": "code",
   "execution_count": 1,
   "metadata": {},
   "outputs": [],
   "source": [
    "import pandas as pd\n",
    "# Importacion de Plotly como libreria de DataViz\n",
    "import plotly.express as px\n",
    "import plotly.graph_objects as go\n",
    "import plotly.figure_factory as ff\n",
    "import json"
   ]
  },
  {
   "cell_type": "code",
   "execution_count": 2,
   "metadata": {},
   "outputs": [
    {
     "name": "stdout",
     "output_type": "stream",
     "text": [
      "Path base: C:\\develoment\\Coderhouser-DS-TP0002\n",
      "Directorio actual: c:\\develoment\\Coderhouser-DS-TP0002\\models\\Random_Forest\n"
     ]
    }
   ],
   "source": [
    "import os\n",
    "\n",
    "# Obtiene la ubicación completa del archivo del notebook\n",
    "notebook_path = os.path.realpath('__file__')\n",
    "\n",
    "# Obtiene la ruta absoluta de la carpeta \"Coderhouser-DS-TP0002\" sin importar donde te encuentres\n",
    "path_base = os.path.abspath(os.path.join(notebook_path, \"..\", \"..\", \"..\", \"..\", \"Coderhouser-DS-TP0002\"))\n",
    "\n",
    "print(\"Path base:\", path_base)\n",
    "print(\"Directorio actual:\", os.getcwd())"
   ]
  },
  {
   "cell_type": "code",
   "execution_count": 3,
   "metadata": {},
   "outputs": [],
   "source": [
    "import sys\n",
    "sys.path.append(path_base + r\"\\models\")"
   ]
  },
  {
   "cell_type": "code",
   "execution_count": 4,
   "metadata": {},
   "outputs": [],
   "source": [
    "# Importacion de sklearn para el modelo Random Forest\n",
    "from sklearn.model_selection import train_test_split\n",
    "from sklearn.ensemble import RandomForestClassifier\n",
    "from sklearn.preprocessing import StandardScaler\n",
    "from sklearn.model_selection import GridSearchCV\n",
    "from sklearn.metrics import roc_curve, auc, classification_report, ConfusionMatrixDisplay, confusion_matrix\n",
    "import joblib"
   ]
  },
  {
   "cell_type": "code",
   "execution_count": 5,
   "metadata": {},
   "outputs": [],
   "source": [
    "def model_train_test(model, xts, xTest, yTrain, yTest):\n",
    "    model.fit(xts, yTrain)\n",
    "    y_predict = model.predict(xTest)\n",
    "    print(classification_report(yTest, y_predict))\n",
    "    ConfusionMatrixDisplay.from_estimator(model, xTest, yTest)"
   ]
  },
  {
   "cell_type": "markdown",
   "metadata": {},
   "source": [
    "#### Leyendo datos:"
   ]
  },
  {
   "cell_type": "code",
   "execution_count": 6,
   "metadata": {},
   "outputs": [],
   "source": [
    "# Generando el Dataframe del dataset base\n",
    "df = pd.read_csv( path_base + r\"\\\\data\\procesed\\blueTeam.csv\")\n",
    "test_data = pd.read_csv( path_base + r\"\\\\data\\procesed\\redTeam.csv\")"
   ]
  },
  {
   "cell_type": "markdown",
   "metadata": {},
   "source": [
    "#### Definiendo Características "
   ]
  },
  {
   "cell_type": "code",
   "execution_count": 7,
   "metadata": {},
   "outputs": [],
   "source": [
    "with open(path_base + r\"\\\\models\\features.json\", 'r') as archivo:\n",
    "    featuresDicc = json.load(archivo)"
   ]
  },
  {
   "cell_type": "code",
   "execution_count": 8,
   "metadata": {},
   "outputs": [
    {
     "name": "stdout",
     "output_type": "stream",
     "text": [
      "Conjunto de Características de Visión\n",
      "Conjunto de Características de Rendimiento en Combate\n",
      "Conjunto de Características de Desarrollo y Experiencia\n",
      "Conjunto de Características de Combate Temprano\n",
      "Conjunto de Características Económicas\n",
      "Conjunto de Características de Desempeño en Dragones y Heralds\n"
     ]
    }
   ],
   "source": [
    "for feature in featuresDicc[\"grupos\"]:\n",
    "    print(feature['nombre'])"
   ]
  },
  {
   "cell_type": "code",
   "execution_count": 9,
   "metadata": {},
   "outputs": [],
   "source": [
    "df_pred = df[featuresDicc[\"grupos\"][4]['variables']+[\"Wins\"]]"
   ]
  },
  {
   "cell_type": "markdown",
   "metadata": {},
   "source": [
    "### Construyendo el modelo Random Forest"
   ]
  },
  {
   "cell_type": "markdown",
   "metadata": {},
   "source": [
    "### Separación de Datos:\n",
    "- se dividio en un 80% de los datos para entrenamiento y un 20% para prueba."
   ]
  },
  {
   "cell_type": "code",
   "execution_count": 10,
   "metadata": {},
   "outputs": [],
   "source": [
    "X = df_pred.drop(\"Wins\", axis = 1)\n",
    "y = df[\"Wins\"]"
   ]
  },
  {
   "cell_type": "code",
   "execution_count": 11,
   "metadata": {},
   "outputs": [],
   "source": [
    "X_train, X_test, y_train, y_test = train_test_split(X, y, test_size = 0.2, random_state = 0, stratify = y)"
   ]
  },
  {
   "cell_type": "markdown",
   "metadata": {},
   "source": [
    "#### Estandarización de Características:"
   ]
  },
  {
   "cell_type": "code",
   "execution_count": 12,
   "metadata": {},
   "outputs": [],
   "source": [
    "scaling = StandardScaler()\n",
    "X_train_scaled = scaling.fit_transform(X_train)\n",
    "X_test_scaled = scaling.transform(X_test)"
   ]
  },
  {
   "cell_type": "markdown",
   "metadata": {},
   "source": [
    "### Entrenamiento de un Modelo de Machine Learning:\n",
    "- Se carga la libreria **sklearn** con el modelo **RandomForestClassifier** y se procede a realizar su entrenamiento"
   ]
  },
  {
   "cell_type": "code",
   "execution_count": 13,
   "metadata": {},
   "outputs": [
    {
     "data": {
      "text/html": [
       "<style>#sk-container-id-1 {color: black;}#sk-container-id-1 pre{padding: 0;}#sk-container-id-1 div.sk-toggleable {background-color: white;}#sk-container-id-1 label.sk-toggleable__label {cursor: pointer;display: block;width: 100%;margin-bottom: 0;padding: 0.3em;box-sizing: border-box;text-align: center;}#sk-container-id-1 label.sk-toggleable__label-arrow:before {content: \"▸\";float: left;margin-right: 0.25em;color: #696969;}#sk-container-id-1 label.sk-toggleable__label-arrow:hover:before {color: black;}#sk-container-id-1 div.sk-estimator:hover label.sk-toggleable__label-arrow:before {color: black;}#sk-container-id-1 div.sk-toggleable__content {max-height: 0;max-width: 0;overflow: hidden;text-align: left;background-color: #f0f8ff;}#sk-container-id-1 div.sk-toggleable__content pre {margin: 0.2em;color: black;border-radius: 0.25em;background-color: #f0f8ff;}#sk-container-id-1 input.sk-toggleable__control:checked~div.sk-toggleable__content {max-height: 200px;max-width: 100%;overflow: auto;}#sk-container-id-1 input.sk-toggleable__control:checked~label.sk-toggleable__label-arrow:before {content: \"▾\";}#sk-container-id-1 div.sk-estimator input.sk-toggleable__control:checked~label.sk-toggleable__label {background-color: #d4ebff;}#sk-container-id-1 div.sk-label input.sk-toggleable__control:checked~label.sk-toggleable__label {background-color: #d4ebff;}#sk-container-id-1 input.sk-hidden--visually {border: 0;clip: rect(1px 1px 1px 1px);clip: rect(1px, 1px, 1px, 1px);height: 1px;margin: -1px;overflow: hidden;padding: 0;position: absolute;width: 1px;}#sk-container-id-1 div.sk-estimator {font-family: monospace;background-color: #f0f8ff;border: 1px dotted black;border-radius: 0.25em;box-sizing: border-box;margin-bottom: 0.5em;}#sk-container-id-1 div.sk-estimator:hover {background-color: #d4ebff;}#sk-container-id-1 div.sk-parallel-item::after {content: \"\";width: 100%;border-bottom: 1px solid gray;flex-grow: 1;}#sk-container-id-1 div.sk-label:hover label.sk-toggleable__label {background-color: #d4ebff;}#sk-container-id-1 div.sk-serial::before {content: \"\";position: absolute;border-left: 1px solid gray;box-sizing: border-box;top: 0;bottom: 0;left: 50%;z-index: 0;}#sk-container-id-1 div.sk-serial {display: flex;flex-direction: column;align-items: center;background-color: white;padding-right: 0.2em;padding-left: 0.2em;position: relative;}#sk-container-id-1 div.sk-item {position: relative;z-index: 1;}#sk-container-id-1 div.sk-parallel {display: flex;align-items: stretch;justify-content: center;background-color: white;position: relative;}#sk-container-id-1 div.sk-item::before, #sk-container-id-1 div.sk-parallel-item::before {content: \"\";position: absolute;border-left: 1px solid gray;box-sizing: border-box;top: 0;bottom: 0;left: 50%;z-index: -1;}#sk-container-id-1 div.sk-parallel-item {display: flex;flex-direction: column;z-index: 1;position: relative;background-color: white;}#sk-container-id-1 div.sk-parallel-item:first-child::after {align-self: flex-end;width: 50%;}#sk-container-id-1 div.sk-parallel-item:last-child::after {align-self: flex-start;width: 50%;}#sk-container-id-1 div.sk-parallel-item:only-child::after {width: 0;}#sk-container-id-1 div.sk-dashed-wrapped {border: 1px dashed gray;margin: 0 0.4em 0.5em 0.4em;box-sizing: border-box;padding-bottom: 0.4em;background-color: white;}#sk-container-id-1 div.sk-label label {font-family: monospace;font-weight: bold;display: inline-block;line-height: 1.2em;}#sk-container-id-1 div.sk-label-container {text-align: center;}#sk-container-id-1 div.sk-container {/* jupyter's `normalize.less` sets `[hidden] { display: none; }` but bootstrap.min.css set `[hidden] { display: none !important; }` so we also need the `!important` here to be able to override the default hidden behavior on the sphinx rendered scikit-learn.org. See: https://github.com/scikit-learn/scikit-learn/issues/21755 */display: inline-block !important;position: relative;}#sk-container-id-1 div.sk-text-repr-fallback {display: none;}</style><div id=\"sk-container-id-1\" class=\"sk-top-container\"><div class=\"sk-text-repr-fallback\"><pre>RandomForestClassifier(random_state=42)</pre><b>In a Jupyter environment, please rerun this cell to show the HTML representation or trust the notebook. <br />On GitHub, the HTML representation is unable to render, please try loading this page with nbviewer.org.</b></div><div class=\"sk-container\" hidden><div class=\"sk-item\"><div class=\"sk-estimator sk-toggleable\"><input class=\"sk-toggleable__control sk-hidden--visually\" id=\"sk-estimator-id-1\" type=\"checkbox\" checked><label for=\"sk-estimator-id-1\" class=\"sk-toggleable__label sk-toggleable__label-arrow\">RandomForestClassifier</label><div class=\"sk-toggleable__content\"><pre>RandomForestClassifier(random_state=42)</pre></div></div></div></div></div>"
      ],
      "text/plain": [
       "RandomForestClassifier(random_state=42)"
      ]
     },
     "execution_count": 13,
     "metadata": {},
     "output_type": "execute_result"
    }
   ],
   "source": [
    "model = RandomForestClassifier(random_state=42)\n",
    "model.fit(X_train, y_train)\n"
   ]
  },
  {
   "cell_type": "markdown",
   "metadata": {},
   "source": [
    "### Evaluación del Modelo:\n",
    "- Se evalúa el modelo con el conjunto de prueba utilizando métricas apropiadas."
   ]
  },
  {
   "cell_type": "code",
   "execution_count": 14,
   "metadata": {},
   "outputs": [
    {
     "name": "stdout",
     "output_type": "stream",
     "text": [
      "              precision    recall  f1-score   support\n",
      "\n",
      "           0       0.69      0.69      0.69       990\n",
      "           1       0.68      0.68      0.68       986\n",
      "\n",
      "    accuracy                           0.69      1976\n",
      "   macro avg       0.69      0.69      0.69      1976\n",
      "weighted avg       0.69      0.69      0.69      1976\n",
      "\n"
     ]
    },
    {
     "data": {
      "image/png": "[encoded data removed]",
      "text/plain": [
       "<Figure size 640x480 with 2 Axes>"
      ]
     },
     "metadata": {},
     "output_type": "display_data"
    }
   ],
   "source": [
    "y_pred = model.predict(X_test)\n",
    "model_train_test(model, X_train_scaled, X_test_scaled, y_train, y_test)\n"
   ]
  },
  {
   "cell_type": "markdown",
   "metadata": {},
   "source": [
    "### Ajuste y Optimización del Modelo:"
   ]
  },
  {
   "cell_type": "markdown",
   "metadata": {},
   "source": [
    "##### Ajuste de Hiperparámetros:\n",
    " - proceso de reentrenamiento para una mejor afinacion de resultado"
   ]
  },
  {
   "cell_type": "code",
   "execution_count": 15,
   "metadata": {},
   "outputs": [],
   "source": [
    "param_grid = {\n",
    "    'n_estimators': [50, 100, 200],\n",
    "    'max_depth': [None, 10, 20],\n",
    "    'min_samples_split': [2, 5, 10],\n",
    "    'min_samples_leaf': [1, 2, 4]\n",
    "}\n",
    "\n",
    "grid_search = GridSearchCV(RandomForestClassifier(random_state=42), param_grid, cv=5)\n",
    "grid_search.fit(X_train, y_train)\n",
    "\n",
    "best_params = grid_search.best_params_\n",
    "best_model = grid_search.best_estimator_"
   ]
  },
  {
   "cell_type": "code",
   "execution_count": 16,
   "metadata": {},
   "outputs": [
    {
     "name": "stdout",
     "output_type": "stream",
     "text": [
      "              precision    recall  f1-score   support\n",
      "\n",
      "           0       0.72      0.70      0.71       990\n",
      "           1       0.71      0.73      0.72       986\n",
      "\n",
      "    accuracy                           0.72      1976\n",
      "   macro avg       0.72      0.72      0.72      1976\n",
      "weighted avg       0.72      0.72      0.72      1976\n",
      "\n"
     ]
    },
    {
     "data": {
      "image/png": "[encoded data removed]",
      "text/plain": [
       "<Figure size 640x480 with 2 Axes>"
      ]
     },
     "metadata": {},
     "output_type": "display_data"
    }
   ],
   "source": [
    "model_train_test(best_model, X_train_scaled, X_test_scaled, y_train, y_test)\n"
   ]
  },
  {
   "cell_type": "markdown",
   "metadata": {},
   "source": [
    "##### Validación Cruzada:\n",
    "\n",
    "Realiza la validación cruzada para obtener una evaluación más robusta del rendimiento de tu modelo en diferentes conjuntos de datos."
   ]
  },
  {
   "cell_type": "code",
   "execution_count": 17,
   "metadata": {},
   "outputs": [],
   "source": [
    "from sklearn.model_selection import cross_val_score\n",
    "import numpy as np\n",
    "\n",
    "cv_scores = cross_val_score(best_model, X_train, y_train, cv=5)\n",
    "average_cv_accuracy = np.mean(cv_scores)\n"
   ]
  },
  {
   "cell_type": "markdown",
   "metadata": {},
   "source": [
    "##### Curva de Aprendizaje:\n",
    "\n",
    "Plotea la curva de aprendizaje para entender si tu modelo se beneficiaría de más datos de entrenamiento o si está sobreajustado."
   ]
  },
  {
   "cell_type": "code",
   "execution_count": 18,
   "metadata": {},
   "outputs": [
    {
     "data": {
      "application/vnd.plotly.v1+json": {
       "config": {
        "plotlyServerURL": "https://plot.ly"
       },
       "data": [
        {
         "line": {
          "color": "blue"
         },
         "mode": "lines",
         "name": "Training Score",
         "type": "scatter",
         "x": [
          632,
          2054,
          3477,
          4899,
          6322
         ],
         "y": [
          0.8395569620253165,
          0.8137293086660176,
          0.8030486051193557,
          0.794896917738314,
          0.7871559633027523
         ]
        },
        {
         "line": {
          "color": "orange"
         },
         "mode": "lines",
         "name": "Cross-validation Score",
         "type": "scatter",
         "x": [
          632,
          2054,
          3477,
          4899,
          6322
         ],
         "y": [
          0.6996080833313316,
          0.7054282260066133,
          0.7126430155565696,
          0.7183348945948327,
          0.7206114540548763
         ]
        }
       ],
       "layout": {
        "legend": {
         "x": 0.02,
         "y": 0.95
        },
        "margin": {
         "b": 0,
         "l": 0,
         "r": 0,
         "t": 30
        },
        "template": {
         "data": {
          "bar": [
           {
            "error_x": {
             "color": "#2a3f5f"
            },
            "error_y": {
             "color": "#2a3f5f"
            },
            "marker": {
             "line": {
              "color": "#E5ECF6",
              "width": 0.5
             },
             "pattern": {
              "fillmode": "overlay",
              "size": 10,
              "solidity": 0.2
             }
            },
            "type": "bar"
           }
          ],
          "barpolar": [
           {
            "marker": {
             "line": {
              "color": "#E5ECF6",
              "width": 0.5
             },
             "pattern": {
              "fillmode": "overlay",
              "size": 10,
              "solidity": 0.2
             }
            },
            "type": "barpolar"
           }
          ],
          "carpet": [
           {
            "aaxis": {
             "endlinecolor": "#2a3f5f",
             "gridcolor": "white",
             "linecolor": "white",
             "minorgridcolor": "white",
             "startlinecolor": "#2a3f5f"
            },
            "baxis": {
             "endlinecolor": "#2a3f5f",
             "gridcolor": "white",
             "linecolor": "white",
             "minorgridcolor": "white",
             "startlinecolor": "#2a3f5f"
            },
            "type": "carpet"
           }
          ],
          "choropleth": [
           {
            "colorbar": {
             "outlinewidth": 0,
             "ticks": ""
            },
            "type": "choropleth"
           }
          ],
          "contour": [
           {
            "colorbar": {
             "outlinewidth": 0,
             "ticks": ""
            },
            "colorscale": [
             [
              0,
              "#0d0887"
             ],
             [
              0.1111111111111111,
              "#46039f"
             ],
             [
              0.2222222222222222,
              "#7201a8"
             ],
             [
              0.3333333333333333,
              "#9c179e"
             ],
             [
              0.4444444444444444,
              "#bd3786"
             ],
             [
              0.5555555555555556,
              "#d8576b"
             ],
             [
              0.6666666666666666,
              "#ed7953"
             ],
             [
              0.7777777777777778,
              "#fb9f3a"
             ],
             [
              0.8888888888888888,
              "#fdca26"
             ],
             [
              1,
              "#f0f921"
             ]
            ],
            "type": "contour"
           }
          ],
          "contourcarpet": [
           {
            "colorbar": {
             "outlinewidth": 0,
             "ticks": ""
            },
            "type": "contourcarpet"
           }
          ],
          "heatmap": [
           {
            "colorbar": {
             "outlinewidth": 0,
             "ticks": ""
            },
            "colorscale": [
             [
              0,
              "#0d0887"
             ],
             [
              0.1111111111111111,
              "#46039f"
             ],
             [
              0.2222222222222222,
              "#7201a8"
             ],
             [
              0.3333333333333333,
              "#9c179e"
             ],
             [
              0.4444444444444444,
              "#bd3786"
             ],
             [
              0.5555555555555556,
              "#d8576b"
             ],
             [
              0.6666666666666666,
              "#ed7953"
             ],
             [
              0.7777777777777778,
              "#fb9f3a"
             ],
             [
              0.8888888888888888,
              "#fdca26"
             ],
             [
              1,
              "#f0f921"
             ]
            ],
            "type": "heatmap"
           }
          ],
          "heatmapgl": [
           {
            "colorbar": {
             "outlinewidth": 0,
             "ticks": ""
            },
            "colorscale": [
             [
              0,
              "#0d0887"
             ],
             [
              0.1111111111111111,
              "#46039f"
             ],
             [
              0.2222222222222222,
              "#7201a8"
             ],
             [
              0.3333333333333333,
              "#9c179e"
             ],
             [
              0.4444444444444444,
              "#bd3786"
             ],
             [
              0.5555555555555556,
              "#d8576b"
             ],
             [
              0.6666666666666666,
              "#ed7953"
             ],
             [
              0.7777777777777778,
              "#fb9f3a"
             ],
             [
              0.8888888888888888,
              "#fdca26"
             ],
             [
              1,
              "#f0f921"
             ]
            ],
            "type": "heatmapgl"
           }
          ],
          "histogram": [
           {
            "marker": {
             "pattern": {
              "fillmode": "overlay",
              "size": 10,
              "solidity": 0.2
             }
            },
            "type": "histogram"
           }
          ],
          "histogram2d": [
           {
            "colorbar": {
             "outlinewidth": 0,
             "ticks": ""
            },
            "colorscale": [
             [
              0,
              "#0d0887"
             ],
             [
              0.1111111111111111,
              "#46039f"
             ],
             [
              0.2222222222222222,
              "#7201a8"
             ],
             [
              0.3333333333333333,
              "#9c179e"
             ],
             [
              0.4444444444444444,
              "#bd3786"
             ],
             [
              0.5555555555555556,
              "#d8576b"
             ],
             [
              0.6666666666666666,
              "#ed7953"
             ],
             [
              0.7777777777777778,
              "#fb9f3a"
             ],
             [
              0.8888888888888888,
              "#fdca26"
             ],
             [
              1,
              "#f0f921"
             ]
            ],
            "type": "histogram2d"
           }
          ],
          "histogram2dcontour": [
           {
            "colorbar": {
             "outlinewidth": 0,
             "ticks": ""
            },
            "colorscale": [
             [
              0,
              "#0d0887"
             ],
             [
              0.1111111111111111,
              "#46039f"
             ],
             [
              0.2222222222222222,
              "#7201a8"
             ],
             [
              0.3333333333333333,
              "#9c179e"
             ],
             [
              0.4444444444444444,
              "#bd3786"
             ],
             [
              0.5555555555555556,
              "#d8576b"
             ],
             [
              0.6666666666666666,
              "#ed7953"
             ],
             [
              0.7777777777777778,
              "#fb9f3a"
             ],
             [
              0.8888888888888888,
              "#fdca26"
             ],
             [
              1,
              "#f0f921"
             ]
            ],
            "type": "histogram2dcontour"
           }
          ],
          "mesh3d": [
           {
            "colorbar": {
             "outlinewidth": 0,
             "ticks": ""
            },
            "type": "mesh3d"
           }
          ],
          "parcoords": [
           {
            "line": {
             "colorbar": {
              "outlinewidth": 0,
              "ticks": ""
             }
            },
            "type": "parcoords"
           }
          ],
          "pie": [
           {
            "automargin": true,
            "type": "pie"
           }
          ],
          "scatter": [
           {
            "fillpattern": {
             "fillmode": "overlay",
             "size": 10,
             "solidity": 0.2
            },
            "type": "scatter"
           }
          ],
          "scatter3d": [
           {
            "line": {
             "colorbar": {
              "outlinewidth": 0,
              "ticks": ""
             }
            },
            "marker": {
             "colorbar": {
              "outlinewidth": 0,
              "ticks": ""
             }
            },
            "type": "scatter3d"
           }
          ],
          "scattercarpet": [
           {
            "marker": {
             "colorbar": {
              "outlinewidth": 0,
              "ticks": ""
             }
            },
            "type": "scattercarpet"
           }
          ],
          "scattergeo": [
           {
            "marker": {
             "colorbar": {
              "outlinewidth": 0,
              "ticks": ""
             }
            },
            "type": "scattergeo"
           }
          ],
          "scattergl": [
           {
            "marker": {
             "colorbar": {
              "outlinewidth": 0,
              "ticks": ""
             }
            },
            "type": "scattergl"
           }
          ],
          "scattermapbox": [
           {
            "marker": {
             "colorbar": {
              "outlinewidth": 0,
              "ticks": ""
             }
            },
            "type": "scattermapbox"
           }
          ],
          "scatterpolar": [
           {
            "marker": {
             "colorbar": {
              "outlinewidth": 0,
              "ticks": ""
             }
            },
            "type": "scatterpolar"
           }
          ],
          "scatterpolargl": [
           {
            "marker": {
             "colorbar": {
              "outlinewidth": 0,
              "ticks": ""
             }
            },
            "type": "scatterpolargl"
           }
          ],
          "scatterternary": [
           {
            "marker": {
             "colorbar": {
              "outlinewidth": 0,
              "ticks": ""
             }
            },
            "type": "scatterternary"
           }
          ],
          "surface": [
           {
            "colorbar": {
             "outlinewidth": 0,
             "ticks": ""
            },
            "colorscale": [
             [
              0,
              "#0d0887"
             ],
             [
              0.1111111111111111,
              "#46039f"
             ],
             [
              0.2222222222222222,
              "#7201a8"
             ],
             [
              0.3333333333333333,
              "#9c179e"
             ],
             [
              0.4444444444444444,
              "#bd3786"
             ],
             [
              0.5555555555555556,
              "#d8576b"
             ],
             [
              0.6666666666666666,
              "#ed7953"
             ],
             [
              0.7777777777777778,
              "#fb9f3a"
             ],
             [
              0.8888888888888888,
              "#fdca26"
             ],
             [
              1,
              "#f0f921"
             ]
            ],
            "type": "surface"
           }
          ],
          "table": [
           {
            "cells": {
             "fill": {
              "color": "#EBF0F8"
             },
             "line": {
              "color": "white"
             }
            },
            "header": {
             "fill": {
              "color": "#C8D4E3"
             },
             "line": {
              "color": "white"
             }
            },
            "type": "table"
           }
          ]
         },
         "layout": {
          "annotationdefaults": {
           "arrowcolor": "#2a3f5f",
           "arrowhead": 0,
           "arrowwidth": 1
          },
          "autotypenumbers": "strict",
          "coloraxis": {
           "colorbar": {
            "outlinewidth": 0,
            "ticks": ""
           }
          },
          "colorscale": {
           "diverging": [
            [
             0,
             "#8e0152"
            ],
            [
             0.1,
             "#c51b7d"
            ],
            [
             0.2,
             "#de77ae"
            ],
            [
             0.3,
             "#f1b6da"
            ],
            [
             0.4,
             "#fde0ef"
            ],
            [
             0.5,
             "#f7f7f7"
            ],
            [
             0.6,
             "#e6f5d0"
            ],
            [
             0.7,
             "#b8e186"
            ],
            [
             0.8,
             "#7fbc41"
            ],
            [
             0.9,
             "#4d9221"
            ],
            [
             1,
             "#276419"
            ]
           ],
           "sequential": [
            [
             0,
             "#0d0887"
            ],
            [
             0.1111111111111111,
             "#46039f"
            ],
            [
             0.2222222222222222,
             "#7201a8"
            ],
            [
             0.3333333333333333,
             "#9c179e"
            ],
            [
             0.4444444444444444,
             "#bd3786"
            ],
            [
             0.5555555555555556,
             "#d8576b"
            ],
            [
             0.6666666666666666,
             "#ed7953"
            ],
            [
             0.7777777777777778,
             "#fb9f3a"
            ],
            [
             0.8888888888888888,
             "#fdca26"
            ],
            [
             1,
             "#f0f921"
            ]
           ],
           "sequentialminus": [
            [
             0,
             "#0d0887"
            ],
            [
             0.1111111111111111,
             "#46039f"
            ],
            [
             0.2222222222222222,
             "#7201a8"
            ],
            [
             0.3333333333333333,
             "#9c179e"
            ],
            [
             0.4444444444444444,
             "#bd3786"
            ],
            [
             0.5555555555555556,
             "#d8576b"
            ],
            [
             0.6666666666666666,
             "#ed7953"
            ],
            [
             0.7777777777777778,
             "#fb9f3a"
            ],
            [
             0.8888888888888888,
             "#fdca26"
            ],
            [
             1,
             "#f0f921"
            ]
           ]
          },
          "colorway": [
           "#636efa",
           "#EF553B",
           "#00cc96",
           "#ab63fa",
           "#FFA15A",
           "#19d3f3",
           "#FF6692",
           "#B6E880",
           "#FF97FF",
           "#FECB52"
          ],
          "font": {
           "color": "#2a3f5f"
          },
          "geo": {
           "bgcolor": "white",
           "lakecolor": "white",
           "landcolor": "#E5ECF6",
           "showlakes": true,
           "showland": true,
           "subunitcolor": "white"
          },
          "hoverlabel": {
           "align": "left"
          },
          "hovermode": "closest",
          "mapbox": {
           "style": "light"
          },
          "paper_bgcolor": "white",
          "plot_bgcolor": "#E5ECF6",
          "polar": {
           "angularaxis": {
            "gridcolor": "white",
            "linecolor": "white",
            "ticks": ""
           },
           "bgcolor": "#E5ECF6",
           "radialaxis": {
            "gridcolor": "white",
            "linecolor": "white",
            "ticks": ""
           }
          },
          "scene": {
           "xaxis": {
            "backgroundcolor": "#E5ECF6",
            "gridcolor": "white",
            "gridwidth": 2,
            "linecolor": "white",
            "showbackground": true,
            "ticks": "",
            "zerolinecolor": "white"
           },
           "yaxis": {
            "backgroundcolor": "#E5ECF6",
            "gridcolor": "white",
            "gridwidth": 2,
            "linecolor": "white",
            "showbackground": true,
            "ticks": "",
            "zerolinecolor": "white"
           },
           "zaxis": {
            "backgroundcolor": "#E5ECF6",
            "gridcolor": "white",
            "gridwidth": 2,
            "linecolor": "white",
            "showbackground": true,
            "ticks": "",
            "zerolinecolor": "white"
           }
          },
          "shapedefaults": {
           "line": {
            "color": "#2a3f5f"
           }
          },
          "ternary": {
           "aaxis": {
            "gridcolor": "white",
            "linecolor": "white",
            "ticks": ""
           },
           "baxis": {
            "gridcolor": "white",
            "linecolor": "white",
            "ticks": ""
           },
           "bgcolor": "#E5ECF6",
           "caxis": {
            "gridcolor": "white",
            "linecolor": "white",
            "ticks": ""
           }
          },
          "title": {
           "x": 0.05
          },
          "xaxis": {
           "automargin": true,
           "gridcolor": "white",
           "linecolor": "white",
           "ticks": "",
           "title": {
            "standoff": 15
           },
           "zerolinecolor": "white",
           "zerolinewidth": 2
          },
          "yaxis": {
           "automargin": true,
           "gridcolor": "white",
           "linecolor": "white",
           "ticks": "",
           "title": {
            "standoff": 15
           },
           "zerolinecolor": "white",
           "zerolinewidth": 2
          }
         }
        },
        "title": {
         "text": "Curva de Aprendizaje"
        },
        "xaxis": {
         "title": {
          "text": "Tamaño del Conjunto de Entrenamiento"
         }
        },
        "yaxis": {
         "title": {
          "text": "Puntuación de Exactitud"
         }
        }
       }
      }
     },
     "metadata": {},
     "output_type": "display_data"
    }
   ],
   "source": [
    "import plotly.graph_objects as go\n",
    "from sklearn.model_selection import learning_curve\n",
    "\n",
    "def plot_learning_curve(estimator, X, y, cv=5):\n",
    "    train_sizes, train_scores, test_scores = learning_curve(estimator, X, y, cv=cv)\n",
    "\n",
    "    train_scores_mean = np.mean(train_scores, axis=1)\n",
    "    test_scores_mean = np.mean(test_scores, axis=1)\n",
    "\n",
    "    fig = go.Figure()\n",
    "\n",
    "    fig.add_trace(go.Scatter(\n",
    "        x=train_sizes,\n",
    "        y=train_scores_mean,\n",
    "        mode='lines',\n",
    "        name='Training Score',\n",
    "        line=dict(color='blue')\n",
    "    ))\n",
    "\n",
    "    fig.add_trace(go.Scatter(\n",
    "        x=train_sizes,\n",
    "        y=test_scores_mean,\n",
    "        mode='lines',\n",
    "        name='Cross-validation Score',\n",
    "        line=dict(color='orange')\n",
    "    ))\n",
    "\n",
    "    fig.update_layout(\n",
    "        title='Curva de Aprendizaje',\n",
    "        xaxis_title='Tamaño del Conjunto de Entrenamiento',\n",
    "        yaxis_title='Puntuación de Exactitud',\n",
    "        legend=dict(x=0.02, y=0.95),\n",
    "        margin=dict(l=0, r=0, t=30, b=0)\n",
    "    )\n",
    "\n",
    "    fig.show()\n",
    "    fig.write_html(path_base + r\"\\\\static\\html\\rf_prediccion.html\")\n",
    "    fig.write_image(path_base + r\"\\\\static\\img\\rf_prediccion.png\")\n",
    "\n",
    "# Utiliza la función con tu mejor modelo y conjuntos de entrenamiento\n",
    "plot_learning_curve(best_model, X_train, y_train)"
   ]
  },
  {
   "cell_type": "markdown",
   "metadata": {},
   "source": [
    "##### Ensemble Methods:\n",
    "\n",
    "Puedes probar métodos de conjunto (ensemble methods) como Bagging, Boosting, o Stacking para mejorar el rendimiento del modelo."
   ]
  },
  {
   "cell_type": "code",
   "execution_count": 19,
   "metadata": {},
   "outputs": [
    {
     "name": "stderr",
     "output_type": "stream",
     "text": [
      "c:\\Python311\\Lib\\site-packages\\sklearn\\ensemble\\_base.py:156: FutureWarning:\n",
      "\n",
      "`base_estimator` was renamed to `estimator` in version 1.2 and will be removed in 1.4.\n",
      "\n"
     ]
    },
    {
     "data": {
      "text/html": [
       "<style>#sk-container-id-2 {color: black;}#sk-container-id-2 pre{padding: 0;}#sk-container-id-2 div.sk-toggleable {background-color: white;}#sk-container-id-2 label.sk-toggleable__label {cursor: pointer;display: block;width: 100%;margin-bottom: 0;padding: 0.3em;box-sizing: border-box;text-align: center;}#sk-container-id-2 label.sk-toggleable__label-arrow:before {content: \"▸\";float: left;margin-right: 0.25em;color: #696969;}#sk-container-id-2 label.sk-toggleable__label-arrow:hover:before {color: black;}#sk-container-id-2 div.sk-estimator:hover label.sk-toggleable__label-arrow:before {color: black;}#sk-container-id-2 div.sk-toggleable__content {max-height: 0;max-width: 0;overflow: hidden;text-align: left;background-color: #f0f8ff;}#sk-container-id-2 div.sk-toggleable__content pre {margin: 0.2em;color: black;border-radius: 0.25em;background-color: #f0f8ff;}#sk-container-id-2 input.sk-toggleable__control:checked~div.sk-toggleable__content {max-height: 200px;max-width: 100%;overflow: auto;}#sk-container-id-2 input.sk-toggleable__control:checked~label.sk-toggleable__label-arrow:before {content: \"▾\";}#sk-container-id-2 div.sk-estimator input.sk-toggleable__control:checked~label.sk-toggleable__label {background-color: #d4ebff;}#sk-container-id-2 div.sk-label input.sk-toggleable__control:checked~label.sk-toggleable__label {background-color: #d4ebff;}#sk-container-id-2 input.sk-hidden--visually {border: 0;clip: rect(1px 1px 1px 1px);clip: rect(1px, 1px, 1px, 1px);height: 1px;margin: -1px;overflow: hidden;padding: 0;position: absolute;width: 1px;}#sk-container-id-2 div.sk-estimator {font-family: monospace;background-color: #f0f8ff;border: 1px dotted black;border-radius: 0.25em;box-sizing: border-box;margin-bottom: 0.5em;}#sk-container-id-2 div.sk-estimator:hover {background-color: #d4ebff;}#sk-container-id-2 div.sk-parallel-item::after {content: \"\";width: 100%;border-bottom: 1px solid gray;flex-grow: 1;}#sk-container-id-2 div.sk-label:hover label.sk-toggleable__label {background-color: #d4ebff;}#sk-container-id-2 div.sk-serial::before {content: \"\";position: absolute;border-left: 1px solid gray;box-sizing: border-box;top: 0;bottom: 0;left: 50%;z-index: 0;}#sk-container-id-2 div.sk-serial {display: flex;flex-direction: column;align-items: center;background-color: white;padding-right: 0.2em;padding-left: 0.2em;position: relative;}#sk-container-id-2 div.sk-item {position: relative;z-index: 1;}#sk-container-id-2 div.sk-parallel {display: flex;align-items: stretch;justify-content: center;background-color: white;position: relative;}#sk-container-id-2 div.sk-item::before, #sk-container-id-2 div.sk-parallel-item::before {content: \"\";position: absolute;border-left: 1px solid gray;box-sizing: border-box;top: 0;bottom: 0;left: 50%;z-index: -1;}#sk-container-id-2 div.sk-parallel-item {display: flex;flex-direction: column;z-index: 1;position: relative;background-color: white;}#sk-container-id-2 div.sk-parallel-item:first-child::after {align-self: flex-end;width: 50%;}#sk-container-id-2 div.sk-parallel-item:last-child::after {align-self: flex-start;width: 50%;}#sk-container-id-2 div.sk-parallel-item:only-child::after {width: 0;}#sk-container-id-2 div.sk-dashed-wrapped {border: 1px dashed gray;margin: 0 0.4em 0.5em 0.4em;box-sizing: border-box;padding-bottom: 0.4em;background-color: white;}#sk-container-id-2 div.sk-label label {font-family: monospace;font-weight: bold;display: inline-block;line-height: 1.2em;}#sk-container-id-2 div.sk-label-container {text-align: center;}#sk-container-id-2 div.sk-container {/* jupyter's `normalize.less` sets `[hidden] { display: none; }` but bootstrap.min.css set `[hidden] { display: none !important; }` so we also need the `!important` here to be able to override the default hidden behavior on the sphinx rendered scikit-learn.org. See: https://github.com/scikit-learn/scikit-learn/issues/21755 */display: inline-block !important;position: relative;}#sk-container-id-2 div.sk-text-repr-fallback {display: none;}</style><div id=\"sk-container-id-2\" class=\"sk-top-container\"><div class=\"sk-text-repr-fallback\"><pre>BaggingClassifier(base_estimator=RandomForestClassifier(max_depth=10,\n",
       "                                                        min_samples_leaf=4,\n",
       "                                                        min_samples_split=10,\n",
       "                                                        random_state=42),\n",
       "                  random_state=42)</pre><b>In a Jupyter environment, please rerun this cell to show the HTML representation or trust the notebook. <br />On GitHub, the HTML representation is unable to render, please try loading this page with nbviewer.org.</b></div><div class=\"sk-container\" hidden><div class=\"sk-item sk-dashed-wrapped\"><div class=\"sk-label-container\"><div class=\"sk-label sk-toggleable\"><input class=\"sk-toggleable__control sk-hidden--visually\" id=\"sk-estimator-id-2\" type=\"checkbox\" ><label for=\"sk-estimator-id-2\" class=\"sk-toggleable__label sk-toggleable__label-arrow\">BaggingClassifier</label><div class=\"sk-toggleable__content\"><pre>BaggingClassifier(base_estimator=RandomForestClassifier(max_depth=10,\n",
       "                                                        min_samples_leaf=4,\n",
       "                                                        min_samples_split=10,\n",
       "                                                        random_state=42),\n",
       "                  random_state=42)</pre></div></div></div><div class=\"sk-parallel\"><div class=\"sk-parallel-item\"><div class=\"sk-item\"><div class=\"sk-label-container\"><div class=\"sk-label sk-toggleable\"><input class=\"sk-toggleable__control sk-hidden--visually\" id=\"sk-estimator-id-3\" type=\"checkbox\" ><label for=\"sk-estimator-id-3\" class=\"sk-toggleable__label sk-toggleable__label-arrow\">base_estimator: RandomForestClassifier</label><div class=\"sk-toggleable__content\"><pre>RandomForestClassifier(max_depth=10, min_samples_leaf=4, min_samples_split=10,\n",
       "                       random_state=42)</pre></div></div></div><div class=\"sk-serial\"><div class=\"sk-item\"><div class=\"sk-estimator sk-toggleable\"><input class=\"sk-toggleable__control sk-hidden--visually\" id=\"sk-estimator-id-4\" type=\"checkbox\" ><label for=\"sk-estimator-id-4\" class=\"sk-toggleable__label sk-toggleable__label-arrow\">RandomForestClassifier</label><div class=\"sk-toggleable__content\"><pre>RandomForestClassifier(max_depth=10, min_samples_leaf=4, min_samples_split=10,\n",
       "                       random_state=42)</pre></div></div></div></div></div></div></div></div></div></div>"
      ],
      "text/plain": [
       "BaggingClassifier(base_estimator=RandomForestClassifier(max_depth=10,\n",
       "                                                        min_samples_leaf=4,\n",
       "                                                        min_samples_split=10,\n",
       "                                                        random_state=42),\n",
       "                  random_state=42)"
      ]
     },
     "execution_count": 19,
     "metadata": {},
     "output_type": "execute_result"
    }
   ],
   "source": [
    "from sklearn.ensemble import BaggingClassifier\n",
    "\n",
    "bagging_model = BaggingClassifier(base_estimator=best_model, n_estimators=10, random_state=42)\n",
    "bagging_model.fit(X_train, y_train)"
   ]
  },
  {
   "cell_type": "markdown",
   "metadata": {},
   "source": [
    "### Creandoo un Bucle de modelos segun los grupo de Feature marcados"
   ]
  },
  {
   "cell_type": "code",
   "execution_count": 20,
   "metadata": {},
   "outputs": [],
   "source": [
    "# Crear un DataFrame con los totales\n",
    "totals = pd.DataFrame({\"Categoría\": [\"Real\"], \"Total\": [test_data[\"Wins\"].sum()]})"
   ]
  },
  {
   "cell_type": "code",
   "execution_count": 21,
   "metadata": {},
   "outputs": [],
   "source": [
    "def train_random_forest_model(features_list, df):\n",
    "    X = df[features_list['variables']]\n",
    "    y = df[\"Wins\"]\n",
    "    X_train, X_test, y_train, y_test = train_test_split(X, y, test_size=0.2, random_state=0, stratify=y)\n",
    "\n",
    "    scaler = StandardScaler()\n",
    "    X_train_scaled = scaler.fit_transform(X_train)\n",
    "    X_test_scaled = scaler.transform(X_test)\n",
    "    \n",
    "    param_grid = {\n",
    "        'n_estimators': [50, 100, 200],\n",
    "        'max_depth': [None, 10, 20],\n",
    "        'min_samples_split': [2, 5, 10],\n",
    "        'min_samples_leaf': [1, 2, 4]\n",
    "    }\n",
    "\n",
    "    grid_search = GridSearchCV(RandomForestClassifier(random_state=42), param_grid, cv=5)\n",
    "    grid_search.fit(X_train_scaled, y_train)\n",
    "\n",
    "    best_params = grid_search.best_params_\n",
    "    best_model = grid_search.best_estimator_\n",
    "    score = best_model.score(X_test_scaled, y_test)\n",
    "\n",
    "    return best_model, best_params, score"
   ]
  },
  {
   "cell_type": "code",
   "execution_count": 22,
   "metadata": {},
   "outputs": [
    {
     "name": "stderr",
     "output_type": "stream",
     "text": [
      "c:\\Python311\\Lib\\site-packages\\sklearn\\base.py:457: UserWarning:\n",
      "\n",
      "X has feature names, but RandomForestClassifier was fitted without feature names\n",
      "\n",
      "c:\\Python311\\Lib\\site-packages\\sklearn\\base.py:457: UserWarning:\n",
      "\n",
      "X has feature names, but RandomForestClassifier was fitted without feature names\n",
      "\n",
      "c:\\Python311\\Lib\\site-packages\\sklearn\\base.py:457: UserWarning:\n",
      "\n",
      "X has feature names, but RandomForestClassifier was fitted without feature names\n",
      "\n",
      "c:\\Python311\\Lib\\site-packages\\sklearn\\base.py:457: UserWarning:\n",
      "\n",
      "X has feature names, but RandomForestClassifier was fitted without feature names\n",
      "\n",
      "c:\\Python311\\Lib\\site-packages\\sklearn\\base.py:457: UserWarning:\n",
      "\n",
      "X has feature names, but RandomForestClassifier was fitted without feature names\n",
      "\n",
      "c:\\Python311\\Lib\\site-packages\\sklearn\\base.py:457: UserWarning:\n",
      "\n",
      "X has feature names, but RandomForestClassifier was fitted without feature names\n",
      "\n"
     ]
    }
   ],
   "source": [
    "fig = go.Figure()\n",
    "set_number = 1\n",
    "modelos = {}\n",
    "list_score = []\n",
    "\n",
    "for featureList in featuresDicc[\"grupos\"]:\n",
    "    model, max_accuracy, model_scores = train_random_forest_model(featureList, df)\n",
    "    modelos[\"set_\" + str(set_number)] = model\n",
    "    list_score.append(model_scores)\n",
    "    name = \"Modelo \" + str(set_number) \n",
    "    test = test_data[featureList['variables']]\n",
    "    predictions = model.predict(test)\n",
    "    test_data[name] = predictions\n",
    "\n",
    "    totals.loc[set_number] = [name, test_data[name].sum()]\n",
    "    featuresDicc[\"grupos\"][set_number-1][\"RF\"] = model_scores\n",
    "\n",
    "    joblib.dump(model, f'RF_{name}.pkl')\n",
    "\n",
    "    set_number += 1\n"
   ]
  },
  {
   "cell_type": "markdown",
   "metadata": {},
   "source": [
    "### Aplicando modelo con Red\n",
    "El siguiente informe presenta la evaluación del modelo Random Forest aplicado a los datos del equipo Red. El objetivo de este análisis es determinar la capacidad del modelo entrenado en los datos del equipo Blue para generalizar y realizar predicciones precisas en el contexto de los datos del equipo Red."
   ]
  },
  {
   "cell_type": "code",
   "execution_count": 23,
   "metadata": {},
   "outputs": [],
   "source": [
    "# Calcular la diferencia entre cada modelo y el valor \"Real\"\n",
    "totals['Diferencia_Real'] = totals['Total'] - totals.loc[totals['Categoría'] == 'Real', 'Total'].values[0]"
   ]
  },
  {
   "cell_type": "code",
   "execution_count": 24,
   "metadata": {},
   "outputs": [
    {
     "data": {
      "application/vnd.plotly.v1+json": {
       "config": {
        "plotlyServerURL": "https://plot.ly"
       },
       "data": [
        {
         "alignmentgroup": "True",
         "hovertemplate": "Categoría=%{x}<br>Total=%{text}<br>Diferencia_Real=%{marker.color}<extra></extra>",
         "legendgroup": "",
         "marker": {
          "color": [
           0,
           -3650,
           -20,
           4057,
           4163,
           -32,
           -31
          ],
          "coloraxis": "coloraxis",
          "pattern": {
           "shape": ""
          }
         },
         "name": "",
         "offsetgroup": "",
         "orientation": "v",
         "showlegend": false,
         "text": [
          4949,
          1299,
          4929,
          9006,
          9112,
          4917,
          4918
         ],
         "textposition": "outside",
         "texttemplate": "%{text}",
         "type": "bar",
         "x": [
          "Real",
          "Modelo 1",
          "Modelo 2",
          "Modelo 3",
          "Modelo 4",
          "Modelo 5",
          "Modelo 6"
         ],
         "xaxis": "x",
         "y": [
          4949,
          1299,
          4929,
          9006,
          9112,
          4917,
          4918
         ],
         "yaxis": "y"
        }
       ],
       "layout": {
        "barmode": "relative",
        "coloraxis": {
         "colorbar": {
          "title": {
           "text": "Diferencia_Real"
          }
         },
         "colorscale": [
          [
           0,
           "red"
          ],
          [
           0.5,
           "green"
          ],
          [
           1,
           "red"
          ]
         ]
        },
        "legend": {
         "tracegroupgap": 0
        },
        "template": {
         "data": {
          "bar": [
           {
            "error_x": {
             "color": "#2a3f5f"
            },
            "error_y": {
             "color": "#2a3f5f"
            },
            "marker": {
             "line": {
              "color": "#E5ECF6",
              "width": 0.5
             },
             "pattern": {
              "fillmode": "overlay",
              "size": 10,
              "solidity": 0.2
             }
            },
            "type": "bar"
           }
          ],
          "barpolar": [
           {
            "marker": {
             "line": {
              "color": "#E5ECF6",
              "width": 0.5
             },
             "pattern": {
              "fillmode": "overlay",
              "size": 10,
              "solidity": 0.2
             }
            },
            "type": "barpolar"
           }
          ],
          "carpet": [
           {
            "aaxis": {
             "endlinecolor": "#2a3f5f",
             "gridcolor": "white",
             "linecolor": "white",
             "minorgridcolor": "white",
             "startlinecolor": "#2a3f5f"
            },
            "baxis": {
             "endlinecolor": "#2a3f5f",
             "gridcolor": "white",
             "linecolor": "white",
             "minorgridcolor": "white",
             "startlinecolor": "#2a3f5f"
            },
            "type": "carpet"
           }
          ],
          "choropleth": [
           {
            "colorbar": {
             "outlinewidth": 0,
             "ticks": ""
            },
            "type": "choropleth"
           }
          ],
          "contour": [
           {
            "colorbar": {
             "outlinewidth": 0,
             "ticks": ""
            },
            "colorscale": [
             [
              0,
              "#0d0887"
             ],
             [
              0.1111111111111111,
              "#46039f"
             ],
             [
              0.2222222222222222,
              "#7201a8"
             ],
             [
              0.3333333333333333,
              "#9c179e"
             ],
             [
              0.4444444444444444,
              "#bd3786"
             ],
             [
              0.5555555555555556,
              "#d8576b"
             ],
             [
              0.6666666666666666,
              "#ed7953"
             ],
             [
              0.7777777777777778,
              "#fb9f3a"
             ],
             [
              0.8888888888888888,
              "#fdca26"
             ],
             [
              1,
              "#f0f921"
             ]
            ],
            "type": "contour"
           }
          ],
          "contourcarpet": [
           {
            "colorbar": {
             "outlinewidth": 0,
             "ticks": ""
            },
            "type": "contourcarpet"
           }
          ],
          "heatmap": [
           {
            "colorbar": {
             "outlinewidth": 0,
             "ticks": ""
            },
            "colorscale": [
             [
              0,
              "#0d0887"
             ],
             [
              0.1111111111111111,
              "#46039f"
             ],
             [
              0.2222222222222222,
              "#7201a8"
             ],
             [
              0.3333333333333333,
              "#9c179e"
             ],
             [
              0.4444444444444444,
              "#bd3786"
             ],
             [
              0.5555555555555556,
              "#d8576b"
             ],
             [
              0.6666666666666666,
              "#ed7953"
             ],
             [
              0.7777777777777778,
              "#fb9f3a"
             ],
             [
              0.8888888888888888,
              "#fdca26"
             ],
             [
              1,
              "#f0f921"
             ]
            ],
            "type": "heatmap"
           }
          ],
          "heatmapgl": [
           {
            "colorbar": {
             "outlinewidth": 0,
             "ticks": ""
            },
            "colorscale": [
             [
              0,
              "#0d0887"
             ],
             [
              0.1111111111111111,
              "#46039f"
             ],
             [
              0.2222222222222222,
              "#7201a8"
             ],
             [
              0.3333333333333333,
              "#9c179e"
             ],
             [
              0.4444444444444444,
              "#bd3786"
             ],
             [
              0.5555555555555556,
              "#d8576b"
             ],
             [
              0.6666666666666666,
              "#ed7953"
             ],
             [
              0.7777777777777778,
              "#fb9f3a"
             ],
             [
              0.8888888888888888,
              "#fdca26"
             ],
             [
              1,
              "#f0f921"
             ]
            ],
            "type": "heatmapgl"
           }
          ],
          "histogram": [
           {
            "marker": {
             "pattern": {
              "fillmode": "overlay",
              "size": 10,
              "solidity": 0.2
             }
            },
            "type": "histogram"
           }
          ],
          "histogram2d": [
           {
            "colorbar": {
             "outlinewidth": 0,
             "ticks": ""
            },
            "colorscale": [
             [
              0,
              "#0d0887"
             ],
             [
              0.1111111111111111,
              "#46039f"
             ],
             [
              0.2222222222222222,
              "#7201a8"
             ],
             [
              0.3333333333333333,
              "#9c179e"
             ],
             [
              0.4444444444444444,
              "#bd3786"
             ],
             [
              0.5555555555555556,
              "#d8576b"
             ],
             [
              0.6666666666666666,
              "#ed7953"
             ],
             [
              0.7777777777777778,
              "#fb9f3a"
             ],
             [
              0.8888888888888888,
              "#fdca26"
             ],
             [
              1,
              "#f0f921"
             ]
            ],
            "type": "histogram2d"
           }
          ],
          "histogram2dcontour": [
           {
            "colorbar": {
             "outlinewidth": 0,
             "ticks": ""
            },
            "colorscale": [
             [
              0,
              "#0d0887"
             ],
             [
              0.1111111111111111,
              "#46039f"
             ],
             [
              0.2222222222222222,
              "#7201a8"
             ],
             [
              0.3333333333333333,
              "#9c179e"
             ],
             [
              0.4444444444444444,
              "#bd3786"
             ],
             [
              0.5555555555555556,
              "#d8576b"
             ],
             [
              0.6666666666666666,
              "#ed7953"
             ],
             [
              0.7777777777777778,
              "#fb9f3a"
             ],
             [
              0.8888888888888888,
              "#fdca26"
             ],
             [
              1,
              "#f0f921"
             ]
            ],
            "type": "histogram2dcontour"
           }
          ],
          "mesh3d": [
           {
            "colorbar": {
             "outlinewidth": 0,
             "ticks": ""
            },
            "type": "mesh3d"
           }
          ],
          "parcoords": [
           {
            "line": {
             "colorbar": {
              "outlinewidth": 0,
              "ticks": ""
             }
            },
            "type": "parcoords"
           }
          ],
          "pie": [
           {
            "automargin": true,
            "type": "pie"
           }
          ],
          "scatter": [
           {
            "fillpattern": {
             "fillmode": "overlay",
             "size": 10,
             "solidity": 0.2
            },
            "type": "scatter"
           }
          ],
          "scatter3d": [
           {
            "line": {
             "colorbar": {
              "outlinewidth": 0,
              "ticks": ""
             }
            },
            "marker": {
             "colorbar": {
              "outlinewidth": 0,
              "ticks": ""
             }
            },
            "type": "scatter3d"
           }
          ],
          "scattercarpet": [
           {
            "marker": {
             "colorbar": {
              "outlinewidth": 0,
              "ticks": ""
             }
            },
            "type": "scattercarpet"
           }
          ],
          "scattergeo": [
           {
            "marker": {
             "colorbar": {
              "outlinewidth": 0,
              "ticks": ""
             }
            },
            "type": "scattergeo"
           }
          ],
          "scattergl": [
           {
            "marker": {
             "colorbar": {
              "outlinewidth": 0,
              "ticks": ""
             }
            },
            "type": "scattergl"
           }
          ],
          "scattermapbox": [
           {
            "marker": {
             "colorbar": {
              "outlinewidth": 0,
              "ticks": ""
             }
            },
            "type": "scattermapbox"
           }
          ],
          "scatterpolar": [
           {
            "marker": {
             "colorbar": {
              "outlinewidth": 0,
              "ticks": ""
             }
            },
            "type": "scatterpolar"
           }
          ],
          "scatterpolargl": [
           {
            "marker": {
             "colorbar": {
              "outlinewidth": 0,
              "ticks": ""
             }
            },
            "type": "scatterpolargl"
           }
          ],
          "scatterternary": [
           {
            "marker": {
             "colorbar": {
              "outlinewidth": 0,
              "ticks": ""
             }
            },
            "type": "scatterternary"
           }
          ],
          "surface": [
           {
            "colorbar": {
             "outlinewidth": 0,
             "ticks": ""
            },
            "colorscale": [
             [
              0,
              "#0d0887"
             ],
             [
              0.1111111111111111,
              "#46039f"
             ],
             [
              0.2222222222222222,
              "#7201a8"
             ],
             [
              0.3333333333333333,
              "#9c179e"
             ],
             [
              0.4444444444444444,
              "#bd3786"
             ],
             [
              0.5555555555555556,
              "#d8576b"
             ],
             [
              0.6666666666666666,
              "#ed7953"
             ],
             [
              0.7777777777777778,
              "#fb9f3a"
             ],
             [
              0.8888888888888888,
              "#fdca26"
             ],
             [
              1,
              "#f0f921"
             ]
            ],
            "type": "surface"
           }
          ],
          "table": [
           {
            "cells": {
             "fill": {
              "color": "#EBF0F8"
             },
             "line": {
              "color": "white"
             }
            },
            "header": {
             "fill": {
              "color": "#C8D4E3"
             },
             "line": {
              "color": "white"
             }
            },
            "type": "table"
           }
          ]
         },
         "layout": {
          "annotationdefaults": {
           "arrowcolor": "#2a3f5f",
           "arrowhead": 0,
           "arrowwidth": 1
          },
          "autotypenumbers": "strict",
          "coloraxis": {
           "colorbar": {
            "outlinewidth": 0,
            "ticks": ""
           }
          },
          "colorscale": {
           "diverging": [
            [
             0,
             "#8e0152"
            ],
            [
             0.1,
             "#c51b7d"
            ],
            [
             0.2,
             "#de77ae"
            ],
            [
             0.3,
             "#f1b6da"
            ],
            [
             0.4,
             "#fde0ef"
            ],
            [
             0.5,
             "#f7f7f7"
            ],
            [
             0.6,
             "#e6f5d0"
            ],
            [
             0.7,
             "#b8e186"
            ],
            [
             0.8,
             "#7fbc41"
            ],
            [
             0.9,
             "#4d9221"
            ],
            [
             1,
             "#276419"
            ]
           ],
           "sequential": [
            [
             0,
             "#0d0887"
            ],
            [
             0.1111111111111111,
             "#46039f"
            ],
            [
             0.2222222222222222,
             "#7201a8"
            ],
            [
             0.3333333333333333,
             "#9c179e"
            ],
            [
             0.4444444444444444,
             "#bd3786"
            ],
            [
             0.5555555555555556,
             "#d8576b"
            ],
            [
             0.6666666666666666,
             "#ed7953"
            ],
            [
             0.7777777777777778,
             "#fb9f3a"
            ],
            [
             0.8888888888888888,
             "#fdca26"
            ],
            [
             1,
             "#f0f921"
            ]
           ],
           "sequentialminus": [
            [
             0,
             "#0d0887"
            ],
            [
             0.1111111111111111,
             "#46039f"
            ],
            [
             0.2222222222222222,
             "#7201a8"
            ],
            [
             0.3333333333333333,
             "#9c179e"
            ],
            [
             0.4444444444444444,
             "#bd3786"
            ],
            [
             0.5555555555555556,
             "#d8576b"
            ],
            [
             0.6666666666666666,
             "#ed7953"
            ],
            [
             0.7777777777777778,
             "#fb9f3a"
            ],
            [
             0.8888888888888888,
             "#fdca26"
            ],
            [
             1,
             "#f0f921"
            ]
           ]
          },
          "colorway": [
           "#636efa",
           "#EF553B",
           "#00cc96",
           "#ab63fa",
           "#FFA15A",
           "#19d3f3",
           "#FF6692",
           "#B6E880",
           "#FF97FF",
           "#FECB52"
          ],
          "font": {
           "color": "#2a3f5f"
          },
          "geo": {
           "bgcolor": "white",
           "lakecolor": "white",
           "landcolor": "#E5ECF6",
           "showlakes": true,
           "showland": true,
           "subunitcolor": "white"
          },
          "hoverlabel": {
           "align": "left"
          },
          "hovermode": "closest",
          "mapbox": {
           "style": "light"
          },
          "paper_bgcolor": "white",
          "plot_bgcolor": "#E5ECF6",
          "polar": {
           "angularaxis": {
            "gridcolor": "white",
            "linecolor": "white",
            "ticks": ""
           },
           "bgcolor": "#E5ECF6",
           "radialaxis": {
            "gridcolor": "white",
            "linecolor": "white",
            "ticks": ""
           }
          },
          "scene": {
           "xaxis": {
            "backgroundcolor": "#E5ECF6",
            "gridcolor": "white",
            "gridwidth": 2,
            "linecolor": "white",
            "showbackground": true,
            "ticks": "",
            "zerolinecolor": "white"
           },
           "yaxis": {
            "backgroundcolor": "#E5ECF6",
            "gridcolor": "white",
            "gridwidth": 2,
            "linecolor": "white",
            "showbackground": true,
            "ticks": "",
            "zerolinecolor": "white"
           },
           "zaxis": {
            "backgroundcolor": "#E5ECF6",
            "gridcolor": "white",
            "gridwidth": 2,
            "linecolor": "white",
            "showbackground": true,
            "ticks": "",
            "zerolinecolor": "white"
           }
          },
          "shapedefaults": {
           "line": {
            "color": "#2a3f5f"
           }
          },
          "ternary": {
           "aaxis": {
            "gridcolor": "white",
            "linecolor": "white",
            "ticks": ""
           },
           "baxis": {
            "gridcolor": "white",
            "linecolor": "white",
            "ticks": ""
           },
           "bgcolor": "#E5ECF6",
           "caxis": {
            "gridcolor": "white",
            "linecolor": "white",
            "ticks": ""
           }
          },
          "title": {
           "x": 0.05
          },
          "xaxis": {
           "automargin": true,
           "gridcolor": "white",
           "linecolor": "white",
           "ticks": "",
           "title": {
            "standoff": 15
           },
           "zerolinecolor": "white",
           "zerolinewidth": 2
          },
          "yaxis": {
           "automargin": true,
           "gridcolor": "white",
           "linecolor": "white",
           "ticks": "",
           "title": {
            "standoff": 15
           },
           "zerolinecolor": "white",
           "zerolinewidth": 2
          }
         }
        },
        "title": {
         "text": "Comparación del Total de partidas Reales (Wins) vs Modelos de Features"
        },
        "xaxis": {
         "anchor": "y",
         "domain": [
          0,
          1
         ],
         "title": {
          "text": "Categoría"
         }
        },
        "yaxis": {
         "anchor": "x",
         "domain": [
          0,
          1
         ],
         "title": {
          "text": "Total"
         }
        }
       }
      }
     },
     "metadata": {},
     "output_type": "display_data"
    }
   ],
   "source": [
    "# Crear un gráfico de barras\n",
    "fig_comparison = px.bar(totals, x=\"Categoría\", y=\"Total\", text=\"Total\", color='Diferencia_Real', color_continuous_scale=['red', 'green', 'red'],\n",
    "                        title=\"Comparación del Total de partidas Reales (Wins) vs Modelos de Features\",\n",
    "                        labels={\"Categoría\": \"Categoría\", \"Total\": \"Total\"})\n",
    "\n",
    "# Mostrar el gráfico\n",
    "fig_comparison.update_traces(texttemplate='%{text}', textposition='outside')\n",
    "fig_comparison.show()\n",
    "fig_comparison.write_html(path_base + r\"\\\\static\\html\\rf_models_comparations.html\")\n",
    "fig_comparison.write_image(path_base + r\"\\\\static\\img\\rf_models_comparations.png\")"
   ]
  },
  {
   "cell_type": "markdown",
   "metadata": {},
   "source": [
    "### Control de Modelos con la Matriz de confusión"
   ]
  },
  {
   "cell_type": "code",
   "execution_count": 25,
   "metadata": {},
   "outputs": [],
   "source": [
    "resultados = test_data[[\"Wins\",\"Modelo 1\",\"Modelo 2\",\"Modelo 3\",\"Modelo 4\",\"Modelo 5\",\"Modelo 6\"]]"
   ]
  },
  {
   "cell_type": "code",
   "execution_count": 26,
   "metadata": {},
   "outputs": [],
   "source": [
    "columnas_modelos = [\"Modelo 1\", \"Modelo 2\", \"Modelo 3\", \"Modelo 4\", \"Modelo 5\", \"Modelo 6\"]\n",
    "\n",
    "# Crear un diccionario para almacenar las tablas de resultados\n",
    "tablas_resultados = {}\n",
    "\n",
    "# Crear y agregar cada tabla de resultados al diccionario\n",
    "for modelo in columnas_modelos:\n",
    "    matriz = confusion_matrix(resultados[\"Wins\"], resultados[modelo])\n",
    "    df_matriz = pd.DataFrame(matriz, index=[\"Wins 0\", \"Wins 1\"], columns=[\"Predicho 0\", \"Predicho 1\"])\n",
    "    \n",
    "    # Calcular FN, FP, TN, TP\n",
    "    FN = df_matriz.loc[\"Wins 1\", \"Predicho 0\"]\n",
    "    FP = df_matriz.loc[\"Wins 0\", \"Predicho 1\"]\n",
    "    TN = df_matriz.loc[\"Wins 0\", \"Predicho 0\"]\n",
    "    TP = df_matriz.loc[\"Wins 1\", \"Predicho 1\"]\n",
    "\n",
    "    # Crear la tabla de resultados y agregar al diccionario\n",
    "    tabla_resultados = pd.DataFrame({\"Modelo\": [modelo], \"FN\": [FN], \"FP\": [FP], \"TN\": [TN], \"TP\": [TP]})\n",
    "    tablas_resultados[modelo] = tabla_resultados\n",
    "\n",
    "# Concatenar las tablas en un solo DataFrame\n",
    "df_resultados_completo = pd.concat(tablas_resultados.values(), ignore_index=True)"
   ]
  },
  {
   "cell_type": "code",
   "execution_count": 27,
   "metadata": {},
   "outputs": [
    {
     "data": {
      "text/html": [
       "<div>\n",
       "<style scoped>\n",
       "    .dataframe tbody tr th:only-of-type {\n",
       "        vertical-align: middle;\n",
       "    }\n",
       "\n",
       "    .dataframe tbody tr th {\n",
       "        vertical-align: top;\n",
       "    }\n",
       "\n",
       "    .dataframe thead th {\n",
       "        text-align: right;\n",
       "    }\n",
       "</style>\n",
       "<table border=\"1\" class=\"dataframe\">\n",
       "  <thead>\n",
       "    <tr style=\"text-align: right;\">\n",
       "      <th></th>\n",
       "      <th>Modelo</th>\n",
       "      <th>FN</th>\n",
       "      <th>FP</th>\n",
       "      <th>TN</th>\n",
       "      <th>TP</th>\n",
       "    </tr>\n",
       "  </thead>\n",
       "  <tbody>\n",
       "    <tr>\n",
       "      <th>0</th>\n",
       "      <td>Modelo 1</td>\n",
       "      <td>4069</td>\n",
       "      <td>419</td>\n",
       "      <td>4511</td>\n",
       "      <td>880</td>\n",
       "    </tr>\n",
       "    <tr>\n",
       "      <th>1</th>\n",
       "      <td>Modelo 2</td>\n",
       "      <td>1377</td>\n",
       "      <td>1357</td>\n",
       "      <td>3573</td>\n",
       "      <td>3572</td>\n",
       "    </tr>\n",
       "    <tr>\n",
       "      <th>2</th>\n",
       "      <td>Modelo 3</td>\n",
       "      <td>242</td>\n",
       "      <td>4299</td>\n",
       "      <td>631</td>\n",
       "      <td>4707</td>\n",
       "    </tr>\n",
       "    <tr>\n",
       "      <th>3</th>\n",
       "      <td>Modelo 4</td>\n",
       "      <td>142</td>\n",
       "      <td>4305</td>\n",
       "      <td>625</td>\n",
       "      <td>4807</td>\n",
       "    </tr>\n",
       "    <tr>\n",
       "      <th>4</th>\n",
       "      <td>Modelo 5</td>\n",
       "      <td>1385</td>\n",
       "      <td>1353</td>\n",
       "      <td>3577</td>\n",
       "      <td>3564</td>\n",
       "    </tr>\n",
       "    <tr>\n",
       "      <th>5</th>\n",
       "      <td>Modelo 6</td>\n",
       "      <td>1385</td>\n",
       "      <td>1354</td>\n",
       "      <td>3576</td>\n",
       "      <td>3564</td>\n",
       "    </tr>\n",
       "  </tbody>\n",
       "</table>\n",
       "</div>"
      ],
      "text/plain": [
       "     Modelo    FN    FP    TN    TP\n",
       "0  Modelo 1  4069   419  4511   880\n",
       "1  Modelo 2  1377  1357  3573  3572\n",
       "2  Modelo 3   242  4299   631  4707\n",
       "3  Modelo 4   142  4305   625  4807\n",
       "4  Modelo 5  1385  1353  3577  3564\n",
       "5  Modelo 6  1385  1354  3576  3564"
      ]
     },
     "execution_count": 27,
     "metadata": {},
     "output_type": "execute_result"
    }
   ],
   "source": [
    "df_resultados_completo"
   ]
  },
  {
   "cell_type": "code",
   "execution_count": 28,
   "metadata": {},
   "outputs": [],
   "source": [
    "radarData = df_resultados_completo.melt(id_vars=\"Modelo\")"
   ]
  },
  {
   "cell_type": "code",
   "execution_count": 29,
   "metadata": {},
   "outputs": [
    {
     "data": {
      "application/vnd.plotly.v1+json": {
       "config": {
        "plotlyServerURL": "https://plot.ly"
       },
       "data": [
        {
         "fill": "toself",
         "hovertemplate": "Modelo=Modelo 1<br>value=%{r}<br>variable=%{theta}<extra></extra>",
         "legendgroup": "Modelo 1",
         "line": {
          "color": "#636efa",
          "dash": "solid"
         },
         "marker": {
          "symbol": "circle"
         },
         "mode": "lines",
         "name": "Modelo 1",
         "r": [
          4069,
          419,
          4511,
          880,
          4069
         ],
         "showlegend": true,
         "subplot": "polar",
         "theta": [
          "FN",
          "FP",
          "TN",
          "TP",
          "FN"
         ],
         "type": "scatterpolar"
        },
        {
         "fill": "toself",
         "hovertemplate": "Modelo=Modelo 2<br>value=%{r}<br>variable=%{theta}<extra></extra>",
         "legendgroup": "Modelo 2",
         "line": {
          "color": "#EF553B",
          "dash": "solid"
         },
         "marker": {
          "symbol": "circle"
         },
         "mode": "lines",
         "name": "Modelo 2",
         "r": [
          1377,
          1357,
          3573,
          3572,
          1377
         ],
         "showlegend": true,
         "subplot": "polar",
         "theta": [
          "FN",
          "FP",
          "TN",
          "TP",
          "FN"
         ],
         "type": "scatterpolar"
        },
        {
         "fill": "toself",
         "hovertemplate": "Modelo=Modelo 3<br>value=%{r}<br>variable=%{theta}<extra></extra>",
         "legendgroup": "Modelo 3",
         "line": {
          "color": "#00cc96",
          "dash": "solid"
         },
         "marker": {
          "symbol": "circle"
         },
         "mode": "lines",
         "name": "Modelo 3",
         "r": [
          242,
          4299,
          631,
          4707,
          242
         ],
         "showlegend": true,
         "subplot": "polar",
         "theta": [
          "FN",
          "FP",
          "TN",
          "TP",
          "FN"
         ],
         "type": "scatterpolar"
        },
        {
         "fill": "toself",
         "hovertemplate": "Modelo=Modelo 4<br>value=%{r}<br>variable=%{theta}<extra></extra>",
         "legendgroup": "Modelo 4",
         "line": {
          "color": "#ab63fa",
          "dash": "solid"
         },
         "marker": {
          "symbol": "circle"
         },
         "mode": "lines",
         "name": "Modelo 4",
         "r": [
          142,
          4305,
          625,
          4807,
          142
         ],
         "showlegend": true,
         "subplot": "polar",
         "theta": [
          "FN",
          "FP",
          "TN",
          "TP",
          "FN"
         ],
         "type": "scatterpolar"
        },
        {
         "fill": "toself",
         "hovertemplate": "Modelo=Modelo 5<br>value=%{r}<br>variable=%{theta}<extra></extra>",
         "legendgroup": "Modelo 5",
         "line": {
          "color": "#FFA15A",
          "dash": "solid"
         },
         "marker": {
          "symbol": "circle"
         },
         "mode": "lines",
         "name": "Modelo 5",
         "r": [
          1385,
          1353,
          3577,
          3564,
          1385
         ],
         "showlegend": true,
         "subplot": "polar",
         "theta": [
          "FN",
          "FP",
          "TN",
          "TP",
          "FN"
         ],
         "type": "scatterpolar"
        },
        {
         "fill": "toself",
         "hovertemplate": "Modelo=Modelo 6<br>value=%{r}<br>variable=%{theta}<extra></extra>",
         "legendgroup": "Modelo 6",
         "line": {
          "color": "#19d3f3",
          "dash": "solid"
         },
         "marker": {
          "symbol": "circle"
         },
         "mode": "lines",
         "name": "Modelo 6",
         "r": [
          1385,
          1354,
          3576,
          3564,
          1385
         ],
         "showlegend": true,
         "subplot": "polar",
         "theta": [
          "FN",
          "FP",
          "TN",
          "TP",
          "FN"
         ],
         "type": "scatterpolar"
        }
       ],
       "layout": {
        "legend": {
         "title": {
          "text": "Modelo"
         },
         "tracegroupgap": 0
        },
        "polar": {
         "angularaxis": {
          "direction": "clockwise",
          "rotation": 90
         },
         "domain": {
          "x": [
           0,
           1
          ],
          "y": [
           0,
           1
          ]
         }
        },
        "template": {
         "data": {
          "bar": [
           {
            "error_x": {
             "color": "#2a3f5f"
            },
            "error_y": {
             "color": "#2a3f5f"
            },
            "marker": {
             "line": {
              "color": "#E5ECF6",
              "width": 0.5
             },
             "pattern": {
              "fillmode": "overlay",
              "size": 10,
              "solidity": 0.2
             }
            },
            "type": "bar"
           }
          ],
          "barpolar": [
           {
            "marker": {
             "line": {
              "color": "#E5ECF6",
              "width": 0.5
             },
             "pattern": {
              "fillmode": "overlay",
              "size": 10,
              "solidity": 0.2
             }
            },
            "type": "barpolar"
           }
          ],
          "carpet": [
           {
            "aaxis": {
             "endlinecolor": "#2a3f5f",
             "gridcolor": "white",
             "linecolor": "white",
             "minorgridcolor": "white",
             "startlinecolor": "#2a3f5f"
            },
            "baxis": {
             "endlinecolor": "#2a3f5f",
             "gridcolor": "white",
             "linecolor": "white",
             "minorgridcolor": "white",
             "startlinecolor": "#2a3f5f"
            },
            "type": "carpet"
           }
          ],
          "choropleth": [
           {
            "colorbar": {
             "outlinewidth": 0,
             "ticks": ""
            },
            "type": "choropleth"
           }
          ],
          "contour": [
           {
            "colorbar": {
             "outlinewidth": 0,
             "ticks": ""
            },
            "colorscale": [
             [
              0,
              "#0d0887"
             ],
             [
              0.1111111111111111,
              "#46039f"
             ],
             [
              0.2222222222222222,
              "#7201a8"
             ],
             [
              0.3333333333333333,
              "#9c179e"
             ],
             [
              0.4444444444444444,
              "#bd3786"
             ],
             [
              0.5555555555555556,
              "#d8576b"
             ],
             [
              0.6666666666666666,
              "#ed7953"
             ],
             [
              0.7777777777777778,
              "#fb9f3a"
             ],
             [
              0.8888888888888888,
              "#fdca26"
             ],
             [
              1,
              "#f0f921"
             ]
            ],
            "type": "contour"
           }
          ],
          "contourcarpet": [
           {
            "colorbar": {
             "outlinewidth": 0,
             "ticks": ""
            },
            "type": "contourcarpet"
           }
          ],
          "heatmap": [
           {
            "colorbar": {
             "outlinewidth": 0,
             "ticks": ""
            },
            "colorscale": [
             [
              0,
              "#0d0887"
             ],
             [
              0.1111111111111111,
              "#46039f"
             ],
             [
              0.2222222222222222,
              "#7201a8"
             ],
             [
              0.3333333333333333,
              "#9c179e"
             ],
             [
              0.4444444444444444,
              "#bd3786"
             ],
             [
              0.5555555555555556,
              "#d8576b"
             ],
             [
              0.6666666666666666,
              "#ed7953"
             ],
             [
              0.7777777777777778,
              "#fb9f3a"
             ],
             [
              0.8888888888888888,
              "#fdca26"
             ],
             [
              1,
              "#f0f921"
             ]
            ],
            "type": "heatmap"
           }
          ],
          "heatmapgl": [
           {
            "colorbar": {
             "outlinewidth": 0,
             "ticks": ""
            },
            "colorscale": [
             [
              0,
              "#0d0887"
             ],
             [
              0.1111111111111111,
              "#46039f"
             ],
             [
              0.2222222222222222,
              "#7201a8"
             ],
             [
              0.3333333333333333,
              "#9c179e"
             ],
             [
              0.4444444444444444,
              "#bd3786"
             ],
             [
              0.5555555555555556,
              "#d8576b"
             ],
             [
              0.6666666666666666,
              "#ed7953"
             ],
             [
              0.7777777777777778,
              "#fb9f3a"
             ],
             [
              0.8888888888888888,
              "#fdca26"
             ],
             [
              1,
              "#f0f921"
             ]
            ],
            "type": "heatmapgl"
           }
          ],
          "histogram": [
           {
            "marker": {
             "pattern": {
              "fillmode": "overlay",
              "size": 10,
              "solidity": 0.2
             }
            },
            "type": "histogram"
           }
          ],
          "histogram2d": [
           {
            "colorbar": {
             "outlinewidth": 0,
             "ticks": ""
            },
            "colorscale": [
             [
              0,
              "#0d0887"
             ],
             [
              0.1111111111111111,
              "#46039f"
             ],
             [
              0.2222222222222222,
              "#7201a8"
             ],
             [
              0.3333333333333333,
              "#9c179e"
             ],
             [
              0.4444444444444444,
              "#bd3786"
             ],
             [
              0.5555555555555556,
              "#d8576b"
             ],
             [
              0.6666666666666666,
              "#ed7953"
             ],
             [
              0.7777777777777778,
              "#fb9f3a"
             ],
             [
              0.8888888888888888,
              "#fdca26"
             ],
             [
              1,
              "#f0f921"
             ]
            ],
            "type": "histogram2d"
           }
          ],
          "histogram2dcontour": [
           {
            "colorbar": {
             "outlinewidth": 0,
             "ticks": ""
            },
            "colorscale": [
             [
              0,
              "#0d0887"
             ],
             [
              0.1111111111111111,
              "#46039f"
             ],
             [
              0.2222222222222222,
              "#7201a8"
             ],
             [
              0.3333333333333333,
              "#9c179e"
             ],
             [
              0.4444444444444444,
              "#bd3786"
             ],
             [
              0.5555555555555556,
              "#d8576b"
             ],
             [
              0.6666666666666666,
              "#ed7953"
             ],
             [
              0.7777777777777778,
              "#fb9f3a"
             ],
             [
              0.8888888888888888,
              "#fdca26"
             ],
             [
              1,
              "#f0f921"
             ]
            ],
            "type": "histogram2dcontour"
           }
          ],
          "mesh3d": [
           {
            "colorbar": {
             "outlinewidth": 0,
             "ticks": ""
            },
            "type": "mesh3d"
           }
          ],
          "parcoords": [
           {
            "line": {
             "colorbar": {
              "outlinewidth": 0,
              "ticks": ""
             }
            },
            "type": "parcoords"
           }
          ],
          "pie": [
           {
            "automargin": true,
            "type": "pie"
           }
          ],
          "scatter": [
           {
            "fillpattern": {
             "fillmode": "overlay",
             "size": 10,
             "solidity": 0.2
            },
            "type": "scatter"
           }
          ],
          "scatter3d": [
           {
            "line": {
             "colorbar": {
              "outlinewidth": 0,
              "ticks": ""
             }
            },
            "marker": {
             "colorbar": {
              "outlinewidth": 0,
              "ticks": ""
             }
            },
            "type": "scatter3d"
           }
          ],
          "scattercarpet": [
           {
            "marker": {
             "colorbar": {
              "outlinewidth": 0,
              "ticks": ""
             }
            },
            "type": "scattercarpet"
           }
          ],
          "scattergeo": [
           {
            "marker": {
             "colorbar": {
              "outlinewidth": 0,
              "ticks": ""
             }
            },
            "type": "scattergeo"
           }
          ],
          "scattergl": [
           {
            "marker": {
             "colorbar": {
              "outlinewidth": 0,
              "ticks": ""
             }
            },
            "type": "scattergl"
           }
          ],
          "scattermapbox": [
           {
            "marker": {
             "colorbar": {
              "outlinewidth": 0,
              "ticks": ""
             }
            },
            "type": "scattermapbox"
           }
          ],
          "scatterpolar": [
           {
            "marker": {
             "colorbar": {
              "outlinewidth": 0,
              "ticks": ""
             }
            },
            "type": "scatterpolar"
           }
          ],
          "scatterpolargl": [
           {
            "marker": {
             "colorbar": {
              "outlinewidth": 0,
              "ticks": ""
             }
            },
            "type": "scatterpolargl"
           }
          ],
          "scatterternary": [
           {
            "marker": {
             "colorbar": {
              "outlinewidth": 0,
              "ticks": ""
             }
            },
            "type": "scatterternary"
           }
          ],
          "surface": [
           {
            "colorbar": {
             "outlinewidth": 0,
             "ticks": ""
            },
            "colorscale": [
             [
              0,
              "#0d0887"
             ],
             [
              0.1111111111111111,
              "#46039f"
             ],
             [
              0.2222222222222222,
              "#7201a8"
             ],
             [
              0.3333333333333333,
              "#9c179e"
             ],
             [
              0.4444444444444444,
              "#bd3786"
             ],
             [
              0.5555555555555556,
              "#d8576b"
             ],
             [
              0.6666666666666666,
              "#ed7953"
             ],
             [
              0.7777777777777778,
              "#fb9f3a"
             ],
             [
              0.8888888888888888,
              "#fdca26"
             ],
             [
              1,
              "#f0f921"
             ]
            ],
            "type": "surface"
           }
          ],
          "table": [
           {
            "cells": {
             "fill": {
              "color": "#EBF0F8"
             },
             "line": {
              "color": "white"
             }
            },
            "header": {
             "fill": {
              "color": "#C8D4E3"
             },
             "line": {
              "color": "white"
             }
            },
            "type": "table"
           }
          ]
         },
         "layout": {
          "annotationdefaults": {
           "arrowcolor": "#2a3f5f",
           "arrowhead": 0,
           "arrowwidth": 1
          },
          "autotypenumbers": "strict",
          "coloraxis": {
           "colorbar": {
            "outlinewidth": 0,
            "ticks": ""
           }
          },
          "colorscale": {
           "diverging": [
            [
             0,
             "#8e0152"
            ],
            [
             0.1,
             "#c51b7d"
            ],
            [
             0.2,
             "#de77ae"
            ],
            [
             0.3,
             "#f1b6da"
            ],
            [
             0.4,
             "#fde0ef"
            ],
            [
             0.5,
             "#f7f7f7"
            ],
            [
             0.6,
             "#e6f5d0"
            ],
            [
             0.7,
             "#b8e186"
            ],
            [
             0.8,
             "#7fbc41"
            ],
            [
             0.9,
             "#4d9221"
            ],
            [
             1,
             "#276419"
            ]
           ],
           "sequential": [
            [
             0,
             "#0d0887"
            ],
            [
             0.1111111111111111,
             "#46039f"
            ],
            [
             0.2222222222222222,
             "#7201a8"
            ],
            [
             0.3333333333333333,
             "#9c179e"
            ],
            [
             0.4444444444444444,
             "#bd3786"
            ],
            [
             0.5555555555555556,
             "#d8576b"
            ],
            [
             0.6666666666666666,
             "#ed7953"
            ],
            [
             0.7777777777777778,
             "#fb9f3a"
            ],
            [
             0.8888888888888888,
             "#fdca26"
            ],
            [
             1,
             "#f0f921"
            ]
           ],
           "sequentialminus": [
            [
             0,
             "#0d0887"
            ],
            [
             0.1111111111111111,
             "#46039f"
            ],
            [
             0.2222222222222222,
             "#7201a8"
            ],
            [
             0.3333333333333333,
             "#9c179e"
            ],
            [
             0.4444444444444444,
             "#bd3786"
            ],
            [
             0.5555555555555556,
             "#d8576b"
            ],
            [
             0.6666666666666666,
             "#ed7953"
            ],
            [
             0.7777777777777778,
             "#fb9f3a"
            ],
            [
             0.8888888888888888,
             "#fdca26"
            ],
            [
             1,
             "#f0f921"
            ]
           ]
          },
          "colorway": [
           "#636efa",
           "#EF553B",
           "#00cc96",
           "#ab63fa",
           "#FFA15A",
           "#19d3f3",
           "#FF6692",
           "#B6E880",
           "#FF97FF",
           "#FECB52"
          ],
          "font": {
           "color": "#2a3f5f"
          },
          "geo": {
           "bgcolor": "white",
           "lakecolor": "white",
           "landcolor": "#E5ECF6",
           "showlakes": true,
           "showland": true,
           "subunitcolor": "white"
          },
          "hoverlabel": {
           "align": "left"
          },
          "hovermode": "closest",
          "mapbox": {
           "style": "light"
          },
          "paper_bgcolor": "white",
          "plot_bgcolor": "#E5ECF6",
          "polar": {
           "angularaxis": {
            "gridcolor": "white",
            "linecolor": "white",
            "ticks": ""
           },
           "bgcolor": "#E5ECF6",
           "radialaxis": {
            "gridcolor": "white",
            "linecolor": "white",
            "ticks": ""
           }
          },
          "scene": {
           "xaxis": {
            "backgroundcolor": "#E5ECF6",
            "gridcolor": "white",
            "gridwidth": 2,
            "linecolor": "white",
            "showbackground": true,
            "ticks": "",
            "zerolinecolor": "white"
           },
           "yaxis": {
            "backgroundcolor": "#E5ECF6",
            "gridcolor": "white",
            "gridwidth": 2,
            "linecolor": "white",
            "showbackground": true,
            "ticks": "",
            "zerolinecolor": "white"
           },
           "zaxis": {
            "backgroundcolor": "#E5ECF6",
            "gridcolor": "white",
            "gridwidth": 2,
            "linecolor": "white",
            "showbackground": true,
            "ticks": "",
            "zerolinecolor": "white"
           }
          },
          "shapedefaults": {
           "line": {
            "color": "#2a3f5f"
           }
          },
          "ternary": {
           "aaxis": {
            "gridcolor": "white",
            "linecolor": "white",
            "ticks": ""
           },
           "baxis": {
            "gridcolor": "white",
            "linecolor": "white",
            "ticks": ""
           },
           "bgcolor": "#E5ECF6",
           "caxis": {
            "gridcolor": "white",
            "linecolor": "white",
            "ticks": ""
           }
          },
          "title": {
           "x": 0.05
          },
          "xaxis": {
           "automargin": true,
           "gridcolor": "white",
           "linecolor": "white",
           "ticks": "",
           "title": {
            "standoff": 15
           },
           "zerolinecolor": "white",
           "zerolinewidth": 2
          },
          "yaxis": {
           "automargin": true,
           "gridcolor": "white",
           "linecolor": "white",
           "ticks": "",
           "title": {
            "standoff": 15
           },
           "zerolinecolor": "white",
           "zerolinewidth": 2
          }
         }
        },
        "title": {
         "text": "Superposicion de Matrices de confusión"
        }
       }
      }
     },
     "metadata": {},
     "output_type": "display_data"
    }
   ],
   "source": [
    "\n",
    "fig = px.line_polar(radarData, r='value', theta=\"variable\",\n",
    "                    line_close=True, title=\"Superposicion de Matrices de confusión\",\n",
    "                    color=\"Modelo\")\n",
    "fig.update_traces(fill='toself')\n",
    "fig.write_html(path_base + r\"\\\\static\\html\\rf_Matrices_confusión.html\")\n",
    "fig.write_image(path_base + r\"\\\\static\\img\\rf_Matrices_confusión.png\")\n",
    "fig.show()"
   ]
  },
  {
   "cell_type": "markdown",
   "metadata": {},
   "source": [
    "### Control de Modelos con la Curva ROC"
   ]
  },
  {
   "cell_type": "code",
   "execution_count": 33,
   "metadata": {},
   "outputs": [],
   "source": [
    "# Función para plotear la curva ROC en Plotly\n",
    "def plot_roc_curve_plotly(models):\n",
    "    fig = go.Figure()\n",
    "    fig.add_trace(go.Scatter(x=[0, 1], y=[0, 1], \n",
    "                            mode='lines', \n",
    "                            line=dict(color='navy', width=2, dash='dash'),\n",
    "                            name='Random'))\n",
    "    for model_name, model in models.items():  \n",
    "        setFeature = featuresDicc[\"grupos\"][int(model_name.split(\"_\")[1])-1]      \n",
    "        X = df[setFeature['variables']]\n",
    "        y = df[\"Wins\"]\n",
    "        y_probs = model.predict_proba(X)[:, 1]\n",
    "        fpr, tpr, _ = roc_curve(y, y_probs)\n",
    "        roc_auc = auc(fpr, tpr)\n",
    "\n",
    "        fig.add_trace(go.Scatter(x=fpr, y=tpr, \n",
    "                                mode='lines', \n",
    "                                line=dict(color=setFeature[\"color\"], width=2),\n",
    "                                name=f'{model_name} (AUC = {roc_auc:.2f})'))\n",
    "        print(model_name,roc_auc)\n",
    "\n",
    "    fig.update_layout(\n",
    "        title=f'Curva ROC de todos los modelos',\n",
    "        xaxis_title='False Positive Rate',\n",
    "        yaxis_title='True Positive Rate',\n",
    "        legend=dict(x=0.78, y=0.02),\n",
    "        margin=dict(l=0, r=0, t=30, b=0)\n",
    "    )\n",
    "\n",
    "    fig.show()\n",
    "    fig.write_html(path_base + r\"\\\\static\\html\\rf_curve_roc.html\")\n",
    "    fig.write_image(path_base + r\"\\\\static\\img\\rf_curve_roc.png\")"
   ]
  },
  {
   "cell_type": "code",
   "execution_count": 34,
   "metadata": {},
   "outputs": [
    {
     "name": "stderr",
     "output_type": "stream",
     "text": [
      "c:\\Python311\\Lib\\site-packages\\sklearn\\base.py:457: UserWarning:\n",
      "\n",
      "X has feature names, but RandomForestClassifier was fitted without feature names\n",
      "\n",
      "c:\\Python311\\Lib\\site-packages\\sklearn\\base.py:457: UserWarning:\n",
      "\n",
      "X has feature names, but RandomForestClassifier was fitted without feature names\n",
      "\n"
     ]
    },
    {
     "name": "stdout",
     "output_type": "stream",
     "text": [
      "set_1 0.5168511720154091\n",
      "set_2 0.7524346713762323\n",
      "set_3 0.6891232764871056\n",
      "set_4 0.575442290265372\n",
      "set_5 0.7308960935005616\n"
     ]
    },
    {
     "name": "stderr",
     "output_type": "stream",
     "text": [
      "c:\\Python311\\Lib\\site-packages\\sklearn\\base.py:457: UserWarning:\n",
      "\n",
      "X has feature names, but RandomForestClassifier was fitted without feature names\n",
      "\n",
      "c:\\Python311\\Lib\\site-packages\\sklearn\\base.py:457: UserWarning:\n",
      "\n",
      "X has feature names, but RandomForestClassifier was fitted without feature names\n",
      "\n",
      "c:\\Python311\\Lib\\site-packages\\sklearn\\base.py:457: UserWarning:\n",
      "\n",
      "X has feature names, but RandomForestClassifier was fitted without feature names\n",
      "\n",
      "c:\\Python311\\Lib\\site-packages\\sklearn\\base.py:457: UserWarning:\n",
      "\n",
      "X has feature names, but RandomForestClassifier was fitted without feature names\n",
      "\n"
     ]
    },
    {
     "name": "stdout",
     "output_type": "stream",
     "text": [
      "set_6 0.7684989735054145\n"
     ]
    },
    {
     "data": {
      "application/vnd.plotly.v1+json": {
       "config": {
        "plotlyServerURL": "https://plot.ly"
       },
       "data": [
        {
         "line": {
          "color": "navy",
          "dash": "dash",
          "width": 2
         },
         "mode": "lines",
         "name": "Random",
         "type": "scatter",
         "x": [
          0,
          1
         ],
         "y": [
          0,
          1
         ]
        },
        {
         "line": {
          "color": "#ffcccb",
          "width": 2
         },
         "mode": "lines",
         "name": "set_1 (AUC = 0.52)",
         "type": "scatter",
         "x": [
          0,
          0,
          0.007678318852293393,
          0.007678318852293393,
          0.018387553041018388,
          0.018387553041018388,
          0.018387553041018388,
          0.02081228531016367,
          0.02081228531016367,
          0.027480299050313194,
          0.03010709234188725,
          0.031117397454031116,
          0.03637098403717923,
          0.03798747221660942,
          0.03798747221660942,
          0.04061426550818347,
          0.047888462315619315,
          0.047888462315619315,
          0.05738533036977167,
          0.06284097797534856,
          0.06284097797534856,
          0.08021822590422308,
          0.08021822590422308,
          0.08021822590422308,
          0.08021822590422308,
          0.13740149525156597,
          0.15881996362901596,
          0.15881996362901596,
          0.19236209335219237,
          0.19236209335219237,
          0.31743786623560316,
          0.3329965649626187,
          0.37482319660537483,
          0.512022630834512,
          0.5633461305314205,
          0.6447767225702162,
          0.6484138209739341,
          0.6571024449383713,
          0.7084259446352799,
          0.7086280056577087,
          0.7086280056577087,
          0.8579511012325722,
          0.8769448373408769,
          0.8769448373408769,
          0.8927055970903213,
          0.899171549808042,
          0.8997777328753284,
          0.8997777328753284,
          0.903616892301475,
          0.9064457466154778,
          0.9064457466154778,
          0.9080622347949081,
          0.9082642958173368,
          0.9082642958173368,
          0.9361487169125076,
          0.9440290967872298,
          0.9632248939179632,
          0.9632248939179632,
          1
         ],
         "y": [
          0,
          0.00040567951318458417,
          0.024543610547667342,
          0.02535496957403651,
          0.0486815415821501,
          0.04929006085192698,
          0.04969574036511156,
          0.055780933062880324,
          0.055983772819472616,
          0.07302231237322515,
          0.07870182555780933,
          0.08133874239350913,
          0.09878296146044625,
          0.10588235294117647,
          0.10608519269776877,
          0.11379310344827587,
          0.12697768762677486,
          0.12718052738336713,
          0.13529411764705881,
          0.14279918864097363,
          0.14300202839756593,
          0.17505070993914806,
          0.17525354969574036,
          0.17586206896551723,
          0.17606490872210953,
          0.2050709939148073,
          0.2255578093306288,
          0.2257606490872211,
          0.27667342799188643,
          0.2768762677484787,
          0.3509127789046653,
          0.3691683569979716,
          0.4030425963488844,
          0.48377281947261663,
          0.567342799188641,
          0.6300202839756592,
          0.6328600405679513,
          0.6389452332657201,
          0.7210953346855984,
          0.721501014198783,
          0.7217038539553753,
          0.8247464503042596,
          0.8480730223123732,
          0.8484787018255578,
          0.8697768762677485,
          0.8752535496957403,
          0.8766734279918864,
          0.877079107505071,
          0.8829614604462475,
          0.8853955375253549,
          0.8858012170385395,
          0.8880324543610547,
          0.8880324543610547,
          0.8884381338742393,
          0.916632860040568,
          0.9257606490872211,
          0.9401622718052738,
          0.9407707910750507,
          1
         ]
        },
        {
         "line": {
          "color": "#add8e6",
          "width": 2
         },
         "mode": "lines",
         "name": "set_2 (AUC = 0.75)",
         "type": "scatter",
         "x": [
          0,
          0,
          0,
          0.00040412204485754696,
          0.00040412204485754696,
          0.0008082440897150939,
          0.0008082440897150939,
          0.0008082440897150939,
          0.0008082440897150939,
          0.0008082440897150939,
          0.0010103051121438675,
          0.0010103051121438675,
          0.0010103051121438675,
          0.0010103051121438675,
          0.0010103051121438675,
          0.0010103051121438675,
          0.0010103051121438675,
          0.0012123661345726409,
          0.0012123661345726409,
          0.0012123661345726409,
          0.0012123661345726409,
          0.0012123661345726409,
          0.0012123661345726409,
          0.0012123661345726409,
          0.0012123661345726409,
          0.0012123661345726409,
          0.004445342493433016,
          0.004445342493433016,
          0.005051525560719338,
          0.005051525560719338,
          0.005051525560719338,
          0.005051525560719338,
          0.005051525560719338,
          0.005051525560719338,
          0.005657708628005658,
          0.006870074762578299,
          0.006870074762578299,
          0.006870074762578299,
          0.006870074762578299,
          0.006870074762578299,
          0.007274196807435846,
          0.008284501919579712,
          0.008284501919579712,
          0.008284501919579712,
          0.008890684986866033,
          0.00929480703172358,
          0.00929480703172358,
          0.009496868054152355,
          0.010709234188724995,
          0.010709234188724995,
          0.011113356233582542,
          0.011113356233582542,
          0.011113356233582542,
          0.011315417256011316,
          0.011315417256011316,
          0.011315417256011316,
          0.011517478278440088,
          0.011517478278440088,
          0.011517478278440088,
          0.011517478278440088,
          0.01212366134572641,
          0.012325722368155182,
          0.012325722368155182,
          0.012325722368155182,
          0.012527783390583956,
          0.014144271570014143,
          0.014144271570014143,
          0.014144271570014143,
          0.014144271570014143,
          0.014144271570014143,
          0.014144271570014143,
          0.014144271570014143,
          0.014144271570014143,
          0.014144271570014143,
          0.014144271570014143,
          0.014346332592442917,
          0.014346332592442917,
          0.014346332592442917,
          0.014346332592442917,
          0.014750454637300466,
          0.014750454637300466,
          0.014750454637300466,
          0.014952515659729238,
          0.015154576682158012,
          0.015154576682158012,
          0.015154576682158012,
          0.01616488179430188,
          0.01616488179430188,
          0.016569003839159425,
          0.016569003839159425,
          0.016569003839159425,
          0.0167710648615882,
          0.01737724792887452,
          0.017781369973732065,
          0.01899373610830471,
          0.019599919175591028,
          0.02020610224287735,
          0.02020610224287735,
          0.021216407355021217,
          0.02141846837744999,
          0.021620529399878765,
          0.021620529399878765,
          0.02889472620731461,
          0.031117397454031116,
          0.033744190745605175,
          0.03515861790260659,
          0.03879571630632451,
          0.038997777328753286,
          0.04061426550818347,
          0.04061426550818347,
          0.04101838755304102,
          0.04101838755304102,
          0.042230753687613656,
          0.042432814710042434,
          0.053546170943624974,
          0.05374823196605375,
          0.05698120832491412,
          0.05738533036977167,
          0.0594059405940594,
          0.07213578500707214,
          0.07213578500707214,
          0.07435845625378865,
          0.0830470802182259,
          0.09193776520509193,
          0.09961608405738533,
          0.09981814507981411,
          0.09981814507981411,
          0.10022226712467165,
          0.10022226712467165,
          0.10042432814710042,
          0.10103051121438675,
          0.10891089108910891,
          0.11072944029096787,
          0.11072944029096787,
          0.14649424126086077,
          0.14649424126086077,
          0.14750454637300464,
          0.15376843806829663,
          0.1539704990907254,
          0.1539704990907254,
          0.15740553647201455,
          0.15740553647201455,
          0.15740553647201455,
          0.1586179026065872,
          0.1586179026065872,
          0.15881996362901596,
          0.15983026874115983,
          0.1638714891897353,
          0.16831683168316833,
          0.16872095372802587,
          0.16872095372802587,
          0.16872095372802587,
          0.16872095372802587,
          0.16973125884016974,
          0.17114568599717114,
          0.17175186906445747,
          0.1723580521317438,
          0.17417660133360274,
          0.17458072337846028,
          0.18044049302889473,
          0.18104667609618105,
          0.1836734693877551,
          0.20145483936148717,
          0.20145483936148717,
          0.2018589614063447,
          0.2018589614063447,
          0.2020610224287735,
          0.2020610224287735,
          0.2020610224287735,
          0.20226308345120225,
          0.2034754495857749,
          0.2034754495857749,
          0.2034754495857749,
          0.2034754495857749,
          0.20387957163063244,
          0.20387957163063244,
          0.20408163265306123,
          0.20408163265306123,
          0.20448575469791877,
          0.20448575469791877,
          0.20448575469791877,
          0.20448575469791877,
          0.2050919377652051,
          0.2050919377652051,
          0.2050919377652051,
          0.20549605981006264,
          0.20549605981006264,
          0.20569812083249142,
          0.20569812083249142,
          0.20569812083249142,
          0.20569812083249142,
          0.20610224287734896,
          0.20610224287734896,
          0.20711254798949283,
          0.20711254798949283,
          0.20711254798949283,
          0.2073146090119216,
          0.2073146090119216,
          0.2081228531016367,
          0.20832491412406548,
          0.20832491412406548,
          0.20852697514649424,
          0.20852697514649424,
          0.21761972115578904,
          0.21782178217821782,
          0.21782178217821782,
          0.21782178217821782,
          0.2232774297837947,
          0.2232774297837947,
          0.22368155182865226,
          0.2240856738735098,
          0.22529804000808243,
          0.230147504546373,
          0.23378460295009093,
          0.2339866639725197,
          0.24429177611638714,
          0.24449383713881592,
          0.24449383713881592,
          0.24671650838553244,
          0.2469185694079612,
          0.24712063043038998,
          0.24732269145281874,
          0.25338452212568197,
          0.2537886441705395,
          0.2537886441705395,
          0.2539907051929683,
          0.2543948272378258,
          0.2596484138209739,
          0.2600525358658315,
          0.26247726813497674,
          0.26308345120226306,
          0.26348757324712063,
          0.26348757324712063,
          0.26348757324712063,
          0.2638916952919782,
          0.2638916952919782,
          0.2642958173368357,
          0.26449787835926447,
          0.2646999393816933,
          0.2699535259648414,
          0.27096383107698524,
          0.271165892099414,
          0.2727823802788442,
          0.2750050515255607,
          0.2764194786825621,
          0.2788442109517074,
          0.2790462719741362,
          0.279248332996565,
          0.279248332996565,
          0.27945039401899374,
          0.28005657708628007,
          0.2804606991311376,
          0.28086482117599515,
          0.2828854314002829,
          0.2842998585572843,
          0.2842998585572843,
          0.28470398060214186,
          0.2849060416245706,
          0.2851081026469994,
          0.2859163467367145,
          0.2859163467367145,
          0.286320468781572,
          0.2875328349161447,
          0.28793695696100224,
          0.2903616892301475,
          0.2905637502525763,
          0.29076581127500506,
          0.29399878763386544,
          0.2942008486562942,
          0.2942008486562942,
          0.298848252172156,
          0.29905031319458475,
          0.29905031319458475,
          0.3069306930693069,
          0.3071327540917357,
          0.3071327540917357,
          0.30854718124873715,
          0.30935542533845223,
          0.30996160840573855,
          0.31036573045059607,
          0.3105677914730249,
          0.31076985249545364,
          0.3117801576075975,
          0.3117801576075975,
          0.333602748029905,
          0.33420893109719135,
          0.3348151141644777,
          0.33663366336633666,
          0.33744190745605174,
          0.33784602950090925,
          0.3384522125681956,
          0.34815114164477673,
          0.3483532026672055,
          0.34855526368963424,
          0.34855526368963424,
          0.34875732471206305,
          0.34916144675692057,
          0.3499696908466357,
          0.3513841180036371,
          0.3517882400484946,
          0.3527985451606385,
          0.35340472822792485,
          0.35340472822792485,
          0.35380885027278236,
          0.3540109112952112,
          0.35421297231763993,
          0.35421297231763993,
          0.3544150333400687,
          0.355021216407355,
          0.3554253384522126,
          0.3558294604970701,
          0.3558294604970701,
          0.3560315215194989,
          0.3560315215194989,
          0.3564356435643564,
          0.3564356435643564,
          0.3578500707213578,
          0.3578500707213578,
          0.35805213174378664,
          0.35865831481107296,
          0.3590624368559305,
          0.35946655890078805,
          0.35946655890078805,
          0.3606789250353607,
          0.3610830470802182,
          0.361285108102647,
          0.36168923014750454,
          0.3620933521923621,
          0.3665386946857951,
          0.36694281673065265,
          0.3673469387755102,
          0.3673469387755102,
          0.3695696100222267,
          0.37239846433622953,
          0.37846029500909273,
          0.3820973934128107,
          0.3839159426146696,
          0.38472418670438474,
          0.38755304101838756,
          0.3879571630632451,
          0.39078601737724794,
          0.39139220044453427,
          0.39139220044453427,
          0.3924025055566781,
          0.3928066276015357,
          0.3952313598706809,
          0.3966457870276824,
          0.39745403111739747,
          0.40048494645382904,
          0.40189937361083045,
          0.40210143463325926,
          0.4093756314406951,
          0.42392402505556676,
          0.4251363911901394,
          0.4253384522125682,
          0.4253384522125682,
          0.42634875732471206,
          0.4372600525358658,
          0.4376641745807234,
          0.43806829662558094,
          0.44089715093958376,
          0.44089715093958376,
          0.44170539502929884,
          0.44796928672459085,
          0.4522125681955951,
          0.45443523944231157,
          0.45483936148716914,
          0.4596888260254597,
          0.47221660941604365,
          0.5007072135785007,
          0.5009092746009295,
          0.5009092746009295,
          0.5496059810062639,
          0.550414225095979,
          0.5506162861184077,
          0.5589007880379875,
          0.5591028490604163,
          0.5617296423519903,
          0.5617296423519903,
          0.5623358254192766,
          0.615477874318044,
          0.6492220650636492,
          0.7286320468781572,
          0.7286320468781572,
          0.7298444130127298,
          0.7308547181248737,
          0.7310567791473025,
          0.7684380682966255,
          0.877753081430592,
          0.8779551424530209,
          0.8781572034754496,
          0.8856334613053142,
          0.885835522327743,
          0.8890684986866033,
          0.8894726207314609,
          0.8894726207314609,
          0.8896746817538896,
          0.8896746817538896,
          0.8900788037987473,
          0.8906849868660336,
          0.8908870478884623,
          0.8910891089108911,
          0.8910891089108911,
          0.8912911699333199,
          0.8912911699333199,
          0.8918973530006061,
          0.8918973530006061,
          0.8920994140230349,
          0.8925035360678925,
          0.8927055970903213,
          0.8931097191351788,
          0.8933117801576076,
          0.8939179632248939,
          0.8941200242473227,
          0.8943220852697514,
          0.8953323903818954,
          0.8959385734491817,
          0.8961406344716104,
          0.8965447565164679,
          0.8971509395837542,
          0.8975550616286119,
          0.8989694887856132,
          0.8989694887856132,
          0.8995756718528995,
          0.8995756718528995,
          0.8999797938977572,
          0.9001818549201859,
          0.9005859769650434,
          0.9013942210547585,
          0.9015962820771873,
          0.9022024651444737,
          0.9022024651444737,
          0.9024045261669024,
          0.9026065871893312,
          0.90280864821176,
          0.9040210143463326,
          0.9066478076379066,
          0.9070519296827642,
          0.907253990705193,
          0.9074560517276218,
          0.9082642958173368,
          0.9084663568397656,
          0.9088704788846231,
          0.909072539907052,
          0.9104869670640533,
          0.9114972721761972,
          0.9123055162659123,
          0.9135178824004849,
          0.9141240654677713,
          0.9143261264902001,
          0.9157405536472014,
          0.9159426146696302,
          0.9159426146696302,
          0.9167508587593454,
          0.9173570418266317,
          0.9177611638714892,
          0.9177611638714892,
          0.917963224893918,
          0.9197817740957769,
          0.920590018185492,
          0.92422711658921,
          0.92422711658921,
          0.9244291776116387,
          0.926853909880784,
          0.9272580319256415,
          0.9337239846433623,
          0.9345322287330774,
          0.9359466558900787,
          0.9381693271367954,
          0.938371388159224,
          0.9424126086077995,
          0.9426146696302283,
          0.9444332188320873,
          0.9446352798545161,
          0.9446352798545161,
          0.9450394018993736,
          0.9452414629218023,
          0.9462517680339463,
          0.946453829056375,
          0.9480703172358053,
          0.9488785613255203,
          0.9490806223479491,
          0.9511012325722368,
          0.9513032935946656,
          0.9525156597292382,
          0.9545362699535259,
          0.9547383309759547,
          0.9583754293796727,
          0.963426954940392,
          0.9638310769852495,
          0.9648413820973935,
          0.9658516872095373,
          0.9666599312992524,
          0.9666599312992524,
          0.9670640533441099,
          0.9672661143665386,
          0.9672661143665386,
          0.9686805415235401,
          0.9713073348151141,
          0.974136189129117,
          0.9745403111739745,
          0.9751464942412609,
          0.9761567993534047,
          0.9769650434431199,
          0.9773691654879774,
          0.9781774095776925,
          0.980400080824409,
          0.981208324914124,
          0.9814103859365528,
          0.9818145079814103,
          0.9824206910486967,
          0.9826227520711255,
          0.983026874115983,
          0.9834309961608406,
          0.984037179228127,
          0.9844413012729845,
          0.9850474843402708,
          0.9905031319458476,
          0.9909072539907052,
          0.9911093150131339,
          0.9911093150131339,
          0.9913113760355627,
          0.9915134370579916,
          0.9929278642149929,
          0.9929278642149929,
          0.9933319862598505,
          0.9935340472822792,
          0.9953525964841382,
          0.995554657506567,
          0.9959587795514245,
          0.9961608405738533,
          0.9961608405738533,
          0.996362901596282,
          0.996362901596282,
          0.9969690846635684,
          0.9969690846635684,
          0.9971711456859972,
          0.9971711456859972,
          0.997373206708426,
          0.9977773287532835,
          0.9979793897757122,
          0.9983835118205698,
          0.9987876338654273,
          0.9987876338654273,
          0.9991917559102849,
          0.9991917559102849,
          0.9995958779551425,
          1,
          1
         ],
         "y": [
          0,
          0.0008113590263691683,
          0.0016227180527383367,
          0.002434077079107505,
          0.002839756592292089,
          0.002839756592292089,
          0.0034482758620689655,
          0.0038539553752535496,
          0.005070993914807302,
          0.005679513184584178,
          0.006693711967545639,
          0.007302231237322515,
          0.008113590263691683,
          0.008519269776876268,
          0.00872210953346856,
          0.009330628803245436,
          0.009533468559837728,
          0.011156186612576065,
          0.011561866125760649,
          0.012170385395537525,
          0.01257606490872211,
          0.012981744421906694,
          0.014401622718052738,
          0.01845841784989858,
          0.019269776876267748,
          0.01947261663286004,
          0.05152129817444219,
          0.051926977687626774,
          0.059026369168357,
          0.06024340770791075,
          0.06044624746450304,
          0.06328600405679513,
          0.06450304259634888,
          0.06490872210953347,
          0.0667342799188641,
          0.07342799188640974,
          0.07403651115618662,
          0.0742393509127789,
          0.07565922920892496,
          0.07626774847870182,
          0.07707910750507099,
          0.08255578093306289,
          0.08275862068965517,
          0.08316430020283976,
          0.08417849898580122,
          0.08539553752535498,
          0.08620689655172414,
          0.08640973630831643,
          0.08884381338742393,
          0.08945233265720082,
          0.0898580121703854,
          0.09006085192697769,
          0.09107505070993915,
          0.09127789046653144,
          0.09188640973630832,
          0.0922920892494929,
          0.09269776876267749,
          0.095131845841785,
          0.09574036511156186,
          0.0973630831643002,
          0.0975659229208925,
          0.09837728194726167,
          0.1,
          0.10020283975659229,
          0.10081135902636917,
          0.10831643002028397,
          0.10993914807302231,
          0.11561866125760649,
          0.11622718052738337,
          0.11663286004056796,
          0.11703853955375254,
          0.11744421906693712,
          0.118052738336714,
          0.1182555780933063,
          0.11906693711967546,
          0.12210953346855984,
          0.12231237322515214,
          0.12271805273833672,
          0.12332657200811359,
          0.12494929006085193,
          0.12515212981744422,
          0.1257606490872211,
          0.1259634888438134,
          0.1259634888438134,
          0.12778904665314403,
          0.1281947261663286,
          0.1304259634888438,
          0.1306288032454361,
          0.13204868154158214,
          0.13225152129817444,
          0.1332657200811359,
          0.13529411764705881,
          0.13529411764705881,
          0.13732251521298175,
          0.1440162271805274,
          0.1460446247464503,
          0.1464503042596349,
          0.14685598377281947,
          0.150709939148073,
          0.15192697768762678,
          0.15192697768762678,
          0.15212981744421908,
          0.1663286004056795,
          0.1718052738336714,
          0.17890466531440163,
          0.18356997971602435,
          0.18823529411764706,
          0.18904665314401622,
          0.1975659229208925,
          0.19776876267748478,
          0.19837728194726167,
          0.19878296146044624,
          0.20385395537525355,
          0.20405679513184585,
          0.2283975659229209,
          0.22900608519269777,
          0.2365111561866126,
          0.23711967545638946,
          0.24665314401622718,
          0.26267748478701824,
          0.26308316430020284,
          0.26754563894523326,
          0.2841784989858012,
          0.30304259634888436,
          0.3225152129817444,
          0.322920892494929,
          0.3235294117647059,
          0.32413793103448274,
          0.32454361054766734,
          0.32515212981744424,
          0.332657200811359,
          0.3531440162271805,
          0.35699797160243407,
          0.35720081135902637,
          0.45476673427991887,
          0.45517241379310347,
          0.4559837728194726,
          0.4647058823529412,
          0.4665314401622718,
          0.46693711967545637,
          0.4772819472616633,
          0.4776876267748479,
          0.4778904665314402,
          0.481947261663286,
          0.4823529411764706,
          0.4825557809330629,
          0.48803245436105475,
          0.5,
          0.5119675456389452,
          0.5133874239350913,
          0.5135902636916836,
          0.5139959432048682,
          0.5152129817444219,
          0.5198782961460446,
          0.5231237322515213,
          0.5251521298174442,
          0.5294117647058824,
          0.5369168356997972,
          0.5381338742393509,
          0.5618661257606491,
          0.5647058823529412,
          0.5784989858012171,
          0.6363083164300203,
          0.6365111561866126,
          0.6371196754563895,
          0.6375253549695741,
          0.6375253549695741,
          0.6381338742393509,
          0.6383367139959432,
          0.6383367139959432,
          0.6387423935091278,
          0.6393509127789047,
          0.6397565922920893,
          0.6403651115618662,
          0.6405679513184585,
          0.640973630831643,
          0.640973630831643,
          0.6411764705882353,
          0.6411764705882353,
          0.6413793103448275,
          0.6417849898580121,
          0.642393509127789,
          0.642393509127789,
          0.6427991886409736,
          0.6430020283975659,
          0.6430020283975659,
          0.6432048681541582,
          0.6434077079107505,
          0.6438133874239351,
          0.6442190669371197,
          0.6446247464503042,
          0.6446247464503042,
          0.6448275862068965,
          0.6448275862068965,
          0.6454361054766734,
          0.645841784989858,
          0.6460446247464503,
          0.6462474645030426,
          0.6474645030425964,
          0.6474645030425964,
          0.6476673427991887,
          0.6482758620689655,
          0.6488843813387424,
          0.6602434077079108,
          0.6604462474645031,
          0.6606490872210954,
          0.6614604462474645,
          0.6673427991886409,
          0.6675456389452332,
          0.6677484787018255,
          0.6677484787018255,
          0.6677484787018255,
          0.6728194726166329,
          0.6764705882352942,
          0.6764705882352942,
          0.6886409736308317,
          0.6890466531440163,
          0.6892494929006086,
          0.6910750507099391,
          0.6914807302231237,
          0.6914807302231237,
          0.6918864097363083,
          0.6969574036511156,
          0.6969574036511156,
          0.6973630831643002,
          0.6973630831643002,
          0.698580121703854,
          0.7034482758620689,
          0.7034482758620689,
          0.7066937119675456,
          0.7070993914807302,
          0.7073022312373225,
          0.7077079107505071,
          0.7081135902636917,
          0.7087221095334686,
          0.7091277890466532,
          0.7093306288032455,
          0.7093306288032455,
          0.70973630831643,
          0.7156186612576065,
          0.7184584178498986,
          0.7184584178498986,
          0.7200811359026369,
          0.7227180527383367,
          0.7227180527383367,
          0.7247464503042597,
          0.724949290060852,
          0.724949290060852,
          0.7251521298174443,
          0.7253549695740366,
          0.7253549695740366,
          0.7253549695740366,
          0.7255578093306289,
          0.7269776876267748,
          0.7288032454361055,
          0.7290060851926977,
          0.7300202839756592,
          0.7304259634888438,
          0.7304259634888438,
          0.7306288032454361,
          0.7314401622718053,
          0.7314401622718053,
          0.7324543610547667,
          0.7328600405679513,
          0.736105476673428,
          0.7363083164300203,
          0.7367139959432049,
          0.7401622718052738,
          0.7401622718052738,
          0.7403651115618661,
          0.7464503042596349,
          0.7464503042596349,
          0.7466531440162272,
          0.7511156186612576,
          0.7515212981744422,
          0.7517241379310344,
          0.7535496957403651,
          0.7543610547667343,
          0.7547667342799189,
          0.7551724137931034,
          0.7551724137931034,
          0.7557809330628803,
          0.7561866125760649,
          0.7563894523326572,
          0.7726166328600406,
          0.7726166328600406,
          0.7726166328600406,
          0.7744421906693711,
          0.7746450304259634,
          0.7746450304259634,
          0.7748478701825557,
          0.7847870182555781,
          0.7847870182555781,
          0.7849898580121704,
          0.7851926977687627,
          0.7860040567951319,
          0.7860040567951319,
          0.7866125760649088,
          0.7870182555780934,
          0.7870182555780934,
          0.7886409736308316,
          0.7886409736308316,
          0.7890466531440162,
          0.7890466531440162,
          0.7894523326572008,
          0.7894523326572008,
          0.7896551724137931,
          0.7896551724137931,
          0.7896551724137931,
          0.7900608519269777,
          0.7900608519269777,
          0.79026369168357,
          0.79026369168357,
          0.7906693711967545,
          0.7906693711967545,
          0.7908722109533468,
          0.7908722109533468,
          0.7910750507099391,
          0.7910750507099391,
          0.7910750507099391,
          0.7910750507099391,
          0.7910750507099391,
          0.7912778904665314,
          0.7914807302231237,
          0.7914807302231237,
          0.7914807302231237,
          0.7914807302231237,
          0.7914807302231237,
          0.7920892494929006,
          0.7920892494929006,
          0.7922920892494929,
          0.7924949290060852,
          0.7926977687626775,
          0.7926977687626775,
          0.7933062880324544,
          0.7933062880324544,
          0.7933062880324544,
          0.7933062880324544,
          0.7945233265720081,
          0.7945233265720081,
          0.7955375253549696,
          0.7955375253549696,
          0.7957403651115619,
          0.7969574036511157,
          0.7971602434077079,
          0.7975659229208925,
          0.7975659229208925,
          0.797971602434077,
          0.7997971602434077,
          0.8,
          0.8,
          0.801419878296146,
          0.8050709939148073,
          0.8050709939148073,
          0.8050709939148073,
          0.8052738336713996,
          0.8058823529411765,
          0.8062880324543611,
          0.8062880324543611,
          0.8062880324543611,
          0.8077079107505071,
          0.8079107505070994,
          0.8079107505070994,
          0.8091277890466532,
          0.8117647058823529,
          0.8117647058823529,
          0.8117647058823529,
          0.8123732251521298,
          0.814604462474645,
          0.8237322515212981,
          0.8237322515212981,
          0.8239350912778904,
          0.8442190669371197,
          0.8446247464503043,
          0.8446247464503043,
          0.8462474645030426,
          0.8462474645030426,
          0.8464503042596349,
          0.8466531440162272,
          0.8466531440162272,
          0.8636916835699797,
          0.8711967545638946,
          0.8949290060851927,
          0.895131845841785,
          0.8953346855983773,
          0.8955375253549696,
          0.8955375253549696,
          0.9123732251521298,
          0.9699797160243407,
          0.9703853955375253,
          0.9703853955375253,
          0.9713995943204868,
          0.9713995943204868,
          0.9732251521298174,
          0.9732251521298174,
          0.9734279918864097,
          0.9734279918864097,
          0.9738336713995943,
          0.9738336713995943,
          0.9740365111561866,
          0.9740365111561866,
          0.9742393509127789,
          0.9744421906693712,
          0.9746450304259635,
          0.9748478701825558,
          0.9748478701825558,
          0.9750507099391481,
          0.9754563894523327,
          0.9754563894523327,
          0.9754563894523327,
          0.9756592292089249,
          0.9756592292089249,
          0.9758620689655172,
          0.9758620689655172,
          0.9760649087221095,
          0.9764705882352941,
          0.9768762677484787,
          0.977079107505071,
          0.977079107505071,
          0.977079107505071,
          0.977079107505071,
          0.9774847870182556,
          0.9778904665314402,
          0.9778904665314402,
          0.9782961460446248,
          0.9782961460446248,
          0.9782961460446248,
          0.9789046653144016,
          0.9789046653144016,
          0.9789046653144016,
          0.9793103448275862,
          0.9795131845841785,
          0.9795131845841785,
          0.9797160243407708,
          0.9797160243407708,
          0.9799188640973631,
          0.9821501014198782,
          0.9823529411764705,
          0.9823529411764705,
          0.9825557809330628,
          0.9827586206896551,
          0.9827586206896551,
          0.9827586206896551,
          0.9827586206896551,
          0.9827586206896551,
          0.9829614604462474,
          0.9831643002028397,
          0.9831643002028397,
          0.983367139959432,
          0.983367139959432,
          0.983367139959432,
          0.9835699797160243,
          0.9839756592292089,
          0.9839756592292089,
          0.9839756592292089,
          0.9843813387423935,
          0.9845841784989858,
          0.9845841784989858,
          0.9847870182555781,
          0.9847870182555781,
          0.9849898580121704,
          0.9851926977687627,
          0.9851926977687627,
          0.9851926977687627,
          0.9851926977687627,
          0.9851926977687627,
          0.9851926977687627,
          0.9853955375253549,
          0.9855983772819472,
          0.9855983772819472,
          0.9866125760649087,
          0.9866125760649087,
          0.9870182555780933,
          0.9870182555780933,
          0.9872210953346856,
          0.9872210953346856,
          0.9872210953346856,
          0.9872210953346856,
          0.9876267748478702,
          0.9878296146044625,
          0.9878296146044625,
          0.9878296146044625,
          0.9884381338742394,
          0.9888438133874239,
          0.9892494929006085,
          0.9894523326572008,
          0.9894523326572008,
          0.9900608519269777,
          0.9910750507099392,
          0.9910750507099392,
          0.9910750507099392,
          0.9912778904665315,
          0.9912778904665315,
          0.9914807302231238,
          0.9914807302231238,
          0.9914807302231238,
          0.9916835699797161,
          0.9918864097363083,
          0.993103448275862,
          0.9943204868154158,
          0.9943204868154158,
          0.9943204868154158,
          0.9943204868154158,
          0.9945233265720081,
          0.9947261663286004,
          0.9947261663286004,
          0.9955375253549695,
          0.9957403651115618,
          0.9957403651115618,
          0.9957403651115618,
          0.9957403651115618,
          0.9959432048681541,
          0.9959432048681541,
          0.9959432048681541,
          0.9959432048681541,
          0.9959432048681541,
          0.9959432048681541,
          0.9961460446247464,
          0.9961460446247464,
          0.9961460446247464,
          0.9963488843813387,
          0.9963488843813387,
          0.9967545638945233,
          0.9967545638945233,
          0.9971602434077079,
          0.9971602434077079,
          0.9971602434077079,
          0.9973630831643002,
          0.9973630831643002,
          0.9973630831643002,
          0.9973630831643002,
          0.9975659229208925,
          0.9975659229208925,
          0.9977687626774848,
          0.9977687626774848,
          0.9979716024340771,
          0.9979716024340771,
          0.9981744421906694,
          0.9983772819472616,
          0.9983772819472616,
          0.9985801217038539,
          0.9985801217038539,
          0.9987829614604462,
          0.9989858012170385,
          0.9989858012170385,
          0.9993914807302231,
          0.9995943204868154,
          0.9995943204868154,
          1
         ]
        },
        {
         "line": {
          "color": "#98fb98",
          "width": 2
         },
         "mode": "lines",
         "name": "set_3 (AUC = 0.69)",
         "type": "scatter",
         "x": [
          0,
          0.00020206102242877348,
          0.00020206102242877348,
          0.00040412204485754696,
          0.00040412204485754696,
          0.002828854314002829,
          0.002828854314002829,
          0.005657708628005658,
          0.006668013740149525,
          0.006870074762578299,
          0.007476257829864619,
          0.007476257829864619,
          0.00929480703172358,
          0.011517478278440088,
          0.011517478278440088,
          0.021620529399878765,
          0.0266720549605981,
          0.027884421095170742,
          0.028288543140028287,
          0.02849060416245706,
          0.029298848252172157,
          0.041826631642756115,
          0.0701151747827844,
          0.07031723580521318,
          0.0800161648817943,
          0.0800161648817943,
          0.08042028692665185,
          0.0808244089715094,
          0.08365326328551223,
          0.08365326328551223,
          0.09719135178824005,
          0.09719135178824005,
          0.09719135178824005,
          0.10648615881996362,
          0.14932309557486362,
          0.1515457668215801,
          0.1531622550010103,
          0.17154980804202868,
          0.1737724792887452,
          0.1737724792887452,
          0.1737724792887452,
          0.17922812689432208,
          0.18407759143261265,
          0.1842796524550414,
          0.1842796524550414,
          0.1842796524550414,
          0.22125681955950696,
          0.2632855122246919,
          0.27763184481713477,
          0.2814710042432815,
          0.31279046271974137,
          0.3255203071327541,
          0.3279450394018994,
          0.3390583956354819,
          0.3469387755102041,
          0.35340472822792485,
          0.3728025863810871,
          0.40189937361083045,
          0.42271165892099416,
          0.42271165892099416,
          0.43988684582743987,
          0.44029096787229743,
          0.44029096787229743,
          0.44170539502929884,
          0.4485754697918771,
          0.4703980602141847,
          0.47605576884219036,
          0.4839361487169125,
          0.48999797938977574,
          0.4952515659729238,
          0.5233380480905233,
          0.5310163669428167,
          0.5326328551222469,
          0.578904829258436,
          0.5972923822994545,
          0.6035562739947464,
          0.6037583350171752,
          0.6249747423721964,
          0.6344716104263488,
          0.6593251161850879,
          0.6621539704990907,
          0.6649828248130936,
          0.6773085471812488,
          0.6950899171549808,
          0.695898161244696,
          0.7017579308951303,
          0.707415639523136,
          0.728834107900586,
          0.7316629622145888,
          0.7668215801171954,
          0.7708628005657708,
          0.7720751667003435,
          0.7971307334815114,
          0.8642149929278642,
          0.865225298040008,
          0.8656294200848657,
          0.8660335421297232,
          0.8686603354212973,
          0.8692665184885836,
          0.8702768236007274,
          0.870680945645585,
          0.8753283491614468,
          0.8759345322287331,
          0.8773489593857345,
          0.8783592644978784,
          0.890280864821176,
          0.8918973530006061,
          0.8923014750454638,
          0.8963426954940392,
          0.9064457466154778,
          0.9347342897555062,
          0.9535259648413821,
          0.9541321479086684,
          0.9561527581329562,
          0.9571630632451,
          0.9921196201252779,
          0.9925237421701354,
          0.9953525964841382,
          0.9957567185289957,
          0.9961608405738533,
          0.9967670236411397,
          0.9971711456859972,
          0.9975752677308547,
          0.9977773287532835,
          0.9983835118205698,
          1
         ],
         "y": [
          0,
          0,
          0.00040567951318458417,
          0.0036511156186612576,
          0.0038539553752535496,
          0.015415821501014199,
          0.016024340770791075,
          0.03184584178498986,
          0.03691683569979716,
          0.03772819472616633,
          0.04198782961460446,
          0.04259634888438134,
          0.05050709939148073,
          0.05659229208924949,
          0.056997971602434076,
          0.09371196754563894,
          0.10892494929006086,
          0.11602434077079107,
          0.11764705882352941,
          0.1182555780933063,
          0.12190669371196755,
          0.18620689655172415,
          0.21825557809330629,
          0.2257606490872211,
          0.23306288032454361,
          0.23407707910750508,
          0.23671399594320486,
          0.24239350912778904,
          0.24685598377281948,
          0.24726166328600405,
          0.268762677484787,
          0.2716024340770791,
          0.27342799188640976,
          0.2831643002028398,
          0.3352941176470588,
          0.33833671399594323,
          0.3407707910750507,
          0.3537525354969574,
          0.35557809330628803,
          0.3580121703853955,
          0.36004056795131845,
          0.3793103448275862,
          0.3888438133874239,
          0.3888438133874239,
          0.3892494929006085,
          0.3894523326572008,
          0.4233265720081136,
          0.46815415821501016,
          0.48924949290060854,
          0.4955375253549696,
          0.5482758620689655,
          0.5600405679513185,
          0.5610547667342799,
          0.5884381338742394,
          0.5969574036511156,
          0.6154158215010141,
          0.6371196754563895,
          0.6746450304259635,
          0.7192697768762677,
          0.71947261663286,
          0.7286004056795132,
          0.7304259634888438,
          0.731237322515213,
          0.7332657200811359,
          0.7395537525354969,
          0.7574036511156187,
          0.7728194726166329,
          0.7851926977687627,
          0.7953346855983773,
          0.7997971602434077,
          0.8156186612576065,
          0.8210953346855984,
          0.8223123732251522,
          0.8446247464503043,
          0.8561866125760649,
          0.8600405679513184,
          0.8600405679513184,
          0.8740365111561866,
          0.8793103448275862,
          0.8922920892494929,
          0.8935091277890467,
          0.8939148073022313,
          0.8983772819472616,
          0.9073022312373226,
          0.9075050709939148,
          0.9127789046653144,
          0.9139959432048681,
          0.9265720081135903,
          0.9267748478701826,
          0.934077079107505,
          0.9342799188640973,
          0.9346855983772819,
          0.940973630831643,
          0.9596348884381338,
          0.9598377281947261,
          0.9598377281947261,
          0.9602434077079107,
          0.960446247464503,
          0.960446247464503,
          0.9610547667342799,
          0.9610547667342799,
          0.9618661257606491,
          0.9618661257606491,
          0.9618661257606491,
          0.9618661257606491,
          0.9630831643002028,
          0.9632860040567951,
          0.9632860040567951,
          0.9655172413793104,
          0.9665314401622718,
          0.9758620689655172,
          0.981947261663286,
          0.9821501014198782,
          0.9831643002028397,
          0.983367139959432,
          0.9993914807302231,
          0.9993914807302231,
          1,
          1,
          1,
          1,
          1,
          1,
          1,
          1,
          1
         ]
        },
        {
         "line": {
          "color": "#ffb6c1",
          "width": 2
         },
         "mode": "lines",
         "name": "set_4 (AUC = 0.58)",
         "type": "scatter",
         "x": [
          0,
          0,
          0,
          0,
          0,
          0.0006061830672863204,
          0.0008082440897150939,
          0.0018185492018589614,
          0.002222671246716508,
          0.002222671246716508,
          0.0024247322691452818,
          0.0024247322691452818,
          0.004445342493433016,
          0.004445342493433016,
          0.00464740351586179,
          0.005051525560719338,
          0.005253586583148111,
          0.005455647605576884,
          0.005859769650434431,
          0.006263891695291978,
          0.006263891695291978,
          0.006263891695291978,
          0.006465952717720751,
          0.006465952717720751,
          0.006465952717720751,
          0.006668013740149525,
          0.006668013740149525,
          0.006870074762578299,
          0.006870074762578299,
          0.007274196807435846,
          0.007274196807435846,
          0.007274196807435846,
          0.007274196807435846,
          0.008284501919579712,
          0.008284501919579712,
          0.008486562942008486,
          0.009092746009294807,
          0.009496868054152355,
          0.009698929076581127,
          0.009698929076581127,
          0.010305112143867447,
          0.010911295211153768,
          0.015558698727015558,
          0.016973125884016973,
          0.017781369973732065,
          0.017781369973732065,
          0.017781369973732065,
          0.02485350575873914,
          0.025863810870883006,
          0.0266720549605981,
          0.026874115983026876,
          0.02768236007274197,
          0.027884421095170742,
          0.028288543140028287,
          0.02889472620731461,
          0.02889472620731461,
          0.02950090927460093,
          0.02950090927460093,
          0.029905031319458476,
          0.029905031319458476,
          0.029905031319458476,
          0.029905031319458476,
          0.03010709234188725,
          0.030309153364316024,
          0.030511214386744798,
          0.030511214386744798,
          0.03071327540917357,
          0.03071327540917357,
          0.031521519498888664,
          0.031521519498888664,
          0.031521519498888664,
          0.04667609618104668,
          0.04687815720347545,
          0.05758739139220045,
          0.05778945241462922,
          0.06769044251363912,
          0.06789250353606789,
          0.06829662558092545,
          0.06849868660335422,
          0.06849868660335422,
          0.0808244089715094,
          0.1151747827844009,
          0.15801171953930088,
          0.15841584158415842,
          0.3546170943624975,
          0.3554253384522126,
          0.3879571630632451,
          0.3885633461305314,
          0.425540513234997,
          0.6637704586785209,
          0.6637704586785209,
          0.6647807637906648,
          0.6653869468579511,
          0.6661951909476662,
          0.6680137401495252,
          0.6803394625176803,
          0.6926651848858355,
          0.6987270155586988,
          0.7019599919175591,
          0.7088300666801374,
          0.7104465548595675,
          0.7183269347342898,
          0.7207516670034351,
          0.7215599110931501,
          0.7243887654071529,
          0.7342897555061628,
          0.7730854718124873,
          0.7819761567993534,
          0.7981410385936553,
          0.8076379066478077,
          0.8078399676702364,
          0.8078399676702364,
          0.809052333804809,
          0.8116791270963831,
          0.8122853101636694,
          0.8124873711860982,
          0.8124873711860982,
          0.8124873711860982,
          0.812689432208527,
          0.8145079814103859,
          0.8155182865225298,
          0.8159224085673874,
          0.8175388967468176,
          0.8181450798141039,
          0.8181450798141039,
          0.8193574459486765,
          0.8201656900383916,
          0.821580117195393,
          0.821580117195393,
          0.8217821782178217,
          0.8219842392402505,
          0.8219842392402505,
          0.8221863002626794,
          0.8227924833299657,
          0.8229945443523944,
          0.823398666397252,
          0.8280460699131138,
          0.8351182056981208,
          0.8393614871691251,
          0.8401697312588402,
          0.841180036370984,
          0.8413820973934129,
          0.8417862194382704,
          0.8417862194382704,
          0.8432006465952717,
          0.8432006465952717,
          0.8432006465952717,
          0.8436047686401293,
          0.8440088906849869,
          0.8442109517074157,
          0.8446150737522732,
          0.8446150737522732,
          0.8450191957971307,
          0.8450191957971307,
          0.8452212568195595,
          0.8480501111335623,
          0.8498686603354213,
          0.8498686603354213,
          0.8547181248737119,
          0.8549201858961406,
          0.8676500303091533,
          0.868054152354011,
          0.868054152354011,
          0.868862396443726,
          0.8690644574661548,
          0.8700747625782986,
          0.8755304101838756,
          0.8757324712063043,
          0.8763386542735906,
          0.8775510204081632,
          0.8781572034754496,
          0.8809860577894524,
          0.8815922408567387,
          0.8815922408567387,
          0.8817943018791675,
          0.8836128510810265,
          0.8838149121034552,
          0.8878561325520307,
          0.8882602545968883,
          0.8890684986866033,
          0.8892705597090321,
          0.8892705597090321,
          0.8904829258436048,
          0.8945241462921802,
          0.8945241462921802,
          0.8951303293594666,
          0.8965447565164679,
          0.9040210143463326,
          0.9042230753687613,
          0.9044251363911902,
          0.9050313194584765,
          0.9066478076379066,
          0.9106890280864821,
          0.9110931501313396,
          0.9119013942210548,
          0.9121034552434836,
          0.9185694079612042,
          0.9274600929480703,
          0.9278642149929278,
          0.9280662760153566,
          0.9302889472620731,
          0.9310971913517883,
          0.9312992523742171,
          0.9317033744190746,
          0.9321074964639321,
          0.9353404728227925,
          0.9353404728227925,
          0.9361487169125076,
          0.9363507779349364,
          0.9403919983835118,
          0.9436249747423722,
          0.9448373408769448,
          0.9454435239442311,
          0.9462517680339463,
          0.9478682562133764,
          0.9490806223479491,
          0.9492826833703778,
          0.9492826833703778,
          0.9494847443928066,
          0.9498888664376641,
          0.9521115376843807,
          0.9523135987068094,
          0.9523135987068094,
          0.9525156597292382,
          0.961608405738533,
          0.9628207718731057,
          0.9630228328955345,
          0.9642351990301071,
          0.9694887856132552,
          0.969690846635684,
          0.9723176399272581,
          0.9725197009496868,
          0.9759547383309759,
          0.9773691654879774,
          0.9810062638916953,
          0.9832289351384118,
          0.9842392402505556,
          0.9852495453626995,
          0.9878763386542736,
          0.9880783996767024,
          0.9884825217215599,
          0.9898969488785613,
          0.9905031319458476,
          0.9919175591028491,
          0.9923216811477066,
          0.9945443523944231,
          0.9971711456859972,
          1
         ],
         "y": [
          0,
          0.0006085192697768763,
          0.0010141987829614604,
          0.0014198782961460446,
          0.0016227180527383367,
          0.0018255578093306288,
          0.0018255578093306288,
          0.007302231237322515,
          0.009330628803245436,
          0.00973630831643002,
          0.00973630831643002,
          0.01075050709939148,
          0.029411764705882353,
          0.030425963488843813,
          0.030425963488843813,
          0.03610547667342799,
          0.03772819472616633,
          0.03975659229208925,
          0.040365111561866125,
          0.04279918864097363,
          0.04381338742393509,
          0.04442190669371197,
          0.04503042596348884,
          0.04563894523326572,
          0.046044624746450304,
          0.046044624746450304,
          0.046247464503042596,
          0.050101419878296145,
          0.05030425963488844,
          0.05070993914807302,
          0.051115618661257606,
          0.05253549695740365,
          0.05314401622718053,
          0.05720081135902637,
          0.057809330628803245,
          0.058823529411764705,
          0.059837728194726165,
          0.059837728194726165,
          0.06004056795131846,
          0.06044624746450304,
          0.06308316430020285,
          0.06369168356997972,
          0.09107505070993915,
          0.09432048681541583,
          0.09817444219066937,
          0.09858012170385395,
          0.09878296146044625,
          0.13204868154158214,
          0.13468559837728195,
          0.13468559837728195,
          0.13468559837728195,
          0.13509127789046654,
          0.13529411764705881,
          0.1356997971602434,
          0.13732251521298175,
          0.13772819472616632,
          0.13772819472616632,
          0.13793103448275862,
          0.13793103448275862,
          0.13813387423935092,
          0.1385395537525355,
          0.1387423935091278,
          0.1387423935091278,
          0.1389452332657201,
          0.1389452332657201,
          0.13914807302231239,
          0.13914807302231239,
          0.14036511156186612,
          0.1411764705882353,
          0.14178498985801216,
          0.14198782961460446,
          0.14787018255578094,
          0.1484787018255578,
          0.15720081135902636,
          0.15720081135902636,
          0.16004056795131846,
          0.16024340770791076,
          0.1616632860040568,
          0.1616632860040568,
          0.1618661257606491,
          0.16551724137931034,
          0.18864097363083165,
          0.20669371196754563,
          0.20669371196754563,
          0.42697768762677485,
          0.4283975659229209,
          0.4511156186612576,
          0.45233265720081134,
          0.4746450304259635,
          0.7584178498985801,
          0.7586206896551724,
          0.7588235294117647,
          0.7592292089249493,
          0.7636916835699797,
          0.7675456389452333,
          0.7703853955375254,
          0.8113590263691683,
          0.8150101419878296,
          0.8152129817444219,
          0.8208924949290061,
          0.8210953346855984,
          0.8229208924949291,
          0.8275862068965517,
          0.8283975659229209,
          0.8328600405679513,
          0.8356997971602435,
          0.8742393509127789,
          0.8880324543610547,
          0.9338742393509127,
          0.9354969574036511,
          0.9354969574036511,
          0.9356997971602434,
          0.9367139959432048,
          0.9373225152129817,
          0.9379310344827586,
          0.9381338742393509,
          0.9383367139959432,
          0.9387423935091278,
          0.9391480730223124,
          0.9399594320486815,
          0.9399594320486815,
          0.9405679513184584,
          0.9448275862068966,
          0.9464503042596348,
          0.9468559837728194,
          0.9476673427991886,
          0.9478701825557809,
          0.9488843813387424,
          0.9490872210953347,
          0.949290060851927,
          0.949290060851927,
          0.9496957403651115,
          0.9496957403651115,
          0.9501014198782961,
          0.950709939148073,
          0.950709939148073,
          0.952738336713996,
          0.9559837728194727,
          0.956997971602434,
          0.9574036511156186,
          0.9580121703853955,
          0.9582150101419878,
          0.9586206896551724,
          0.959026369168357,
          0.9596348884381338,
          0.9598377281947261,
          0.9606490872210953,
          0.9608519269776876,
          0.9608519269776876,
          0.9608519269776876,
          0.9620689655172414,
          0.9622718052738337,
          0.9622718052738337,
          0.9626774847870182,
          0.9630831643002028,
          0.9643002028397566,
          0.9645030425963489,
          0.9647058823529412,
          0.9667342799188641,
          0.9667342799188641,
          0.9707910750507099,
          0.9709939148073022,
          0.9713995943204868,
          0.972210953346856,
          0.972210953346856,
          0.9726166328600405,
          0.9738336713995943,
          0.9738336713995943,
          0.9740365111561866,
          0.9744421906693712,
          0.9748478701825558,
          0.9750507099391481,
          0.9758620689655172,
          0.9760649087221095,
          0.9760649087221095,
          0.9766734279918864,
          0.9766734279918864,
          0.9774847870182556,
          0.9776876267748479,
          0.9778904665314402,
          0.9784989858012171,
          0.9787018255578094,
          0.9789046653144016,
          0.9793103448275862,
          0.9795131845841785,
          0.9801217038539554,
          0.9801217038539554,
          0.9811359026369169,
          0.9811359026369169,
          0.9813387423935092,
          0.9815415821501015,
          0.981947261663286,
          0.9825557809330628,
          0.9829614604462474,
          0.9831643002028397,
          0.9831643002028397,
          0.9843813387423935,
          0.9866125760649087,
          0.9866125760649087,
          0.986815415821501,
          0.9870182555780933,
          0.9870182555780933,
          0.9870182555780933,
          0.9876267748478702,
          0.9876267748478702,
          0.9898580121703854,
          0.99026369168357,
          0.99026369168357,
          0.99026369168357,
          0.9906693711967546,
          0.9908722109533469,
          0.9908722109533469,
          0.9908722109533469,
          0.9908722109533469,
          0.9910750507099392,
          0.9910750507099392,
          0.9912778904665315,
          0.9916835699797161,
          0.9916835699797161,
          0.9916835699797161,
          0.9916835699797161,
          0.9916835699797161,
          0.9918864097363083,
          0.9920892494929006,
          0.9935091277890467,
          0.9935091277890467,
          0.9935091277890467,
          0.9935091277890467,
          0.9943204868154158,
          0.9943204868154158,
          0.9945233265720081,
          0.9949290060851927,
          0.9959432048681541,
          0.9959432048681541,
          0.996551724137931,
          0.996551724137931,
          0.9967545638945233,
          0.9971602434077079,
          0.9975659229208925,
          0.9979716024340771,
          0.9979716024340771,
          0.9983772819472616,
          0.9983772819472616,
          0.9991886409736308,
          0.9991886409736308,
          0.9993914807302231,
          0.9997971602434077,
          1
         ]
        },
        {
         "line": {
          "color": "#f0e68c",
          "width": 2
         },
         "mode": "lines",
         "name": "set_5 (AUC = 0.73)",
         "type": "scatter",
         "x": [
          0,
          0,
          0,
          0,
          0,
          0,
          0,
          0.0012123661345726409,
          0.0012123661345726409,
          0.0012123661345726409,
          0.0024247322691452818,
          0.0034350373812891493,
          0.0034350373812891493,
          0.0038391594261466965,
          0.0038391594261466965,
          0.00464740351586179,
          0.0048494645382905635,
          0.005253586583148111,
          0.006061830672863205,
          0.00929480703172358,
          0.012931905435441503,
          0.012931905435441503,
          0.012931905435441503,
          0.012931905435441503,
          0.014346332592442917,
          0.016569003839159425,
          0.01737724792887452,
          0.017781369973732065,
          0.03293594665589008,
          0.0335421297231764,
          0.04667609618104668,
          0.04748434027076177,
          0.0571832693473429,
          0.0594059405940594,
          0.0632451000202061,
          0.07617700545564761,
          0.07759143261264902,
          0.0915336431602344,
          0.09739341281066882,
          0.13578500707213578,
          0.13760355627399476,
          0.1380076783188523,
          0.14204889876742777,
          0.14285714285714285,
          0.1454839361487169,
          0.16326530612244897,
          0.16346736714487775,
          0.18023843200646594,
          0.18165285916346738,
          0.18185492018589614,
          0.18468377449989898,
          0.1897353000606183,
          0.2020610224287735,
          0.2036775106082037,
          0.20387957163063244,
          0.20468781572034755,
          0.22085269751464942,
          0.2210547585370782,
          0.22125681955950696,
          0.22145888058193575,
          0.22226712467165083,
          0.2224691856940796,
          0.2285310163669428,
          0.22913719943422914,
          0.23216811477066074,
          0.23519903010709234,
          0.23600727419680745,
          0.2539907051929683,
          0.25419276621539705,
          0.25641543746211354,
          0.2576278035966862,
          0.2590422307536876,
          0.26025459688826025,
          0.260456657910689,
          0.260456657910689,
          0.27096383107698524,
          0.2727823802788442,
          0.272984441301273,
          0.27338856334613054,
          0.2746009294807032,
          0.2752071125479895,
          0.2754091735704183,
          0.27621741766013336,
          0.27621741766013336,
          0.27763184481713477,
          0.27864214992927866,
          0.2788442109517074,
          0.27945039401899374,
          0.2796524550414225,
          0.2796524550414225,
          0.2798545160638513,
          0.2798545160638513,
          0.2798545160638513,
          0.28005657708628007,
          0.28005657708628007,
          0.2802586381087088,
          0.2806627601535664,
          0.2810668821984239,
          0.2820771873105678,
          0.2826833703778541,
          0.2865225298040008,
          0.2873307738937159,
          0.2923822994544352,
          0.3041018387553041,
          0.30470802182259044,
          0.3105677914730249,
          0.3109719135178824,
          0.3162255001010305,
          0.32107496463932106,
          0.3232976358860376,
          0.3396645787027682,
          0.34107900585976964,
          0.34107900585976964,
          0.3433016771064862,
          0.35057587391392203,
          0.3511820569812083,
          0.36330571832693476,
          0.3825015154576682,
          0.38613861386138615,
          0.38613861386138615,
          0.3885633461305314,
          0.40998181450798143,
          0.4186704384724187,
          0.42493433016771065,
          0.4253384522125682,
          0.4305920387957163,
          0.4546373004647404,
          0.45544554455445546,
          0.4582743988684583,
          0.46049707011517477,
          0.46696302283289554,
          0.4732269145281875,
          0.47747019599919177,
          0.48151141644776724,
          0.4873711860982017,
          0.49666599312992527,
          0.5104061426550819,
          0.5112143867447969,
          0.5178824004849465,
          0.5633461305314205,
          0.5635481915538493,
          0.5730450596080016,
          0.6039603960396039,
          0.6073954334208931,
          0.73146090119216,
          0.842998585572843,
          0.9997979389775712,
          1
         ],
         "y": [
          0,
          0.00020283975659229209,
          0.0006085192697768763,
          0.002028397565922921,
          0.0032454361054766734,
          0.004462474645030426,
          0.006288032454361055,
          0.01947261663286004,
          0.020081135902636917,
          0.0204868154158215,
          0.03286004056795132,
          0.045233265720081135,
          0.04543610547667343,
          0.05436105476673428,
          0.05456389452332657,
          0.05841784989858012,
          0.05841784989858012,
          0.06004056795131846,
          0.060649087221095334,
          0.0718052738336714,
          0.08417849898580122,
          0.08519269776876268,
          0.08580121703853956,
          0.08661257606490873,
          0.09472616632860041,
          0.10953346855983773,
          0.1129817444219067,
          0.11379310344827587,
          0.14320486815415823,
          0.1464503042596349,
          0.17647058823529413,
          0.18012170385395537,
          0.2077079107505071,
          0.21744421906693712,
          0.22880324543610547,
          0.26369168356997974,
          0.2742393509127789,
          0.30709939148073023,
          0.3227180527383367,
          0.4103448275862069,
          0.4148073022312373,
          0.4158215010141988,
          0.4253549695740365,
          0.42697768762677485,
          0.43468559837728193,
          0.46592292089249493,
          0.46673427991886407,
          0.4924949290060852,
          0.4955375253549696,
          0.49634888438133873,
          0.4993914807302231,
          0.5156186612576065,
          0.5344827586206896,
          0.5387423935091278,
          0.543002028397566,
          0.5442190669371196,
          0.5675456389452332,
          0.5675456389452332,
          0.5689655172413793,
          0.5695740365111562,
          0.5707910750507099,
          0.5711967545638945,
          0.5789046653144017,
          0.5827586206896552,
          0.5874239350912779,
          0.591683569979716,
          0.5941176470588235,
          0.6267748478701826,
          0.6267748478701826,
          0.6338742393509128,
          0.6369168356997972,
          0.6387423935091278,
          0.6393509127789047,
          0.6411764705882353,
          0.6421906693711967,
          0.6774847870182555,
          0.6839756592292089,
          0.685395537525355,
          0.6866125760649088,
          0.6941176470588235,
          0.7002028397565923,
          0.7002028397565923,
          0.7038539553752535,
          0.7046653144016227,
          0.7109533468559838,
          0.7239350912778905,
          0.7239350912778905,
          0.7253549695740366,
          0.7253549695740366,
          0.7255578093306289,
          0.7255578093306289,
          0.7261663286004056,
          0.7265720081135902,
          0.7265720081135902,
          0.7269776876267748,
          0.7269776876267748,
          0.7269776876267748,
          0.7273833671399594,
          0.7273833671399594,
          0.7273833671399594,
          0.7308316430020284,
          0.7310344827586207,
          0.7342799188640974,
          0.7350912778904666,
          0.7369168356997972,
          0.7387423935091277,
          0.7391480730223123,
          0.7415821501014199,
          0.7446247464503043,
          0.7470588235294118,
          0.7567951318458418,
          0.7567951318458418,
          0.7569979716024341,
          0.7580121703853956,
          0.76105476673428,
          0.76105476673428,
          0.7689655172413793,
          0.7789046653144016,
          0.7833671399594321,
          0.7835699797160244,
          0.7855983772819473,
          0.7864097363083165,
          0.7878296146044624,
          0.7890466531440162,
          0.7890466531440162,
          0.7924949290060852,
          0.7965517241379311,
          0.7965517241379311,
          0.7965517241379311,
          0.797971602434077,
          0.7993914807302231,
          0.7995943204868154,
          0.8,
          0.8006085192697768,
          0.8010141987829614,
          0.8064908722109534,
          0.8141987829614604,
          0.8152129817444219,
          0.8176470588235294,
          0.8253549695740365,
          0.8253549695740365,
          0.8263691683569979,
          0.8350912778904666,
          0.8356997971602435,
          0.8851926977687626,
          0.9399594320486815,
          1,
          1
         ]
        },
        {
         "line": {
          "color": "#dda0dd",
          "width": 2
         },
         "mode": "lines",
         "name": "set_6 (AUC = 0.77)",
         "type": "scatter",
         "x": [
          0,
          0.05395029298848252,
          0.15356637704586784,
          0.16872095372802587,
          0.2036775106082037,
          0.20387957163063244,
          0.20387957163063244,
          0.20408163265306123,
          0.20408163265306123,
          0.20691048696706404,
          0.24752475247524752,
          0.2576278035966862,
          0.25782986461911495,
          0.27945039401899374,
          0.2798545160638513,
          0.2838957365124268,
          0.2838957365124268,
          0.32713679531218426,
          0.34431198221863,
          0.3445140432410588,
          0.3558294604970701,
          0.3558294604970701,
          0.3560315215194989,
          0.41361891291169933,
          0.4293796726611437,
          0.5570822388361285,
          0.557486360880986,
          0.5576884219034148,
          1
         ],
         "y": [
          0,
          0.2411764705882353,
          0.48113590263691686,
          0.5622718052738337,
          0.6405679513184585,
          0.6405679513184585,
          0.6407707910750507,
          0.6407707910750507,
          0.640973630831643,
          0.6484787018255578,
          0.6855983772819473,
          0.6947261663286004,
          0.6947261663286004,
          0.7253549695740366,
          0.7253549695740366,
          0.7308316430020284,
          0.7310344827586207,
          0.7612576064908723,
          0.7825557809330629,
          0.7825557809330629,
          0.79026369168357,
          0.7906693711967545,
          0.7906693711967545,
          0.8137931034482758,
          0.8253549695740365,
          0.8910750507099392,
          0.8910750507099392,
          0.8910750507099392,
          1
         ]
        }
       ],
       "layout": {
        "legend": {
         "x": 0.78,
         "y": 0.02
        },
        "margin": {
         "b": 0,
         "l": 0,
         "r": 0,
         "t": 30
        },
        "template": {
         "data": {
          "bar": [
           {
            "error_x": {
             "color": "#2a3f5f"
            },
            "error_y": {
             "color": "#2a3f5f"
            },
            "marker": {
             "line": {
              "color": "#E5ECF6",
              "width": 0.5
             },
             "pattern": {
              "fillmode": "overlay",
              "size": 10,
              "solidity": 0.2
             }
            },
            "type": "bar"
           }
          ],
          "barpolar": [
           {
            "marker": {
             "line": {
              "color": "#E5ECF6",
              "width": 0.5
             },
             "pattern": {
              "fillmode": "overlay",
              "size": 10,
              "solidity": 0.2
             }
            },
            "type": "barpolar"
           }
          ],
          "carpet": [
           {
            "aaxis": {
             "endlinecolor": "#2a3f5f",
             "gridcolor": "white",
             "linecolor": "white",
             "minorgridcolor": "white",
             "startlinecolor": "#2a3f5f"
            },
            "baxis": {
             "endlinecolor": "#2a3f5f",
             "gridcolor": "white",
             "linecolor": "white",
             "minorgridcolor": "white",
             "startlinecolor": "#2a3f5f"
            },
            "type": "carpet"
           }
          ],
          "choropleth": [
           {
            "colorbar": {
             "outlinewidth": 0,
             "ticks": ""
            },
            "type": "choropleth"
           }
          ],
          "contour": [
           {
            "colorbar": {
             "outlinewidth": 0,
             "ticks": ""
            },
            "colorscale": [
             [
              0,
              "#0d0887"
             ],
             [
              0.1111111111111111,
              "#46039f"
             ],
             [
              0.2222222222222222,
              "#7201a8"
             ],
             [
              0.3333333333333333,
              "#9c179e"
             ],
             [
              0.4444444444444444,
              "#bd3786"
             ],
             [
              0.5555555555555556,
              "#d8576b"
             ],
             [
              0.6666666666666666,
              "#ed7953"
             ],
             [
              0.7777777777777778,
              "#fb9f3a"
             ],
             [
              0.8888888888888888,
              "#fdca26"
             ],
             [
              1,
              "#f0f921"
             ]
            ],
            "type": "contour"
           }
          ],
          "contourcarpet": [
           {
            "colorbar": {
             "outlinewidth": 0,
             "ticks": ""
            },
            "type": "contourcarpet"
           }
          ],
          "heatmap": [
           {
            "colorbar": {
             "outlinewidth": 0,
             "ticks": ""
            },
            "colorscale": [
             [
              0,
              "#0d0887"
             ],
             [
              0.1111111111111111,
              "#46039f"
             ],
             [
              0.2222222222222222,
              "#7201a8"
             ],
             [
              0.3333333333333333,
              "#9c179e"
             ],
             [
              0.4444444444444444,
              "#bd3786"
             ],
             [
              0.5555555555555556,
              "#d8576b"
             ],
             [
              0.6666666666666666,
              "#ed7953"
             ],
             [
              0.7777777777777778,
              "#fb9f3a"
             ],
             [
              0.8888888888888888,
              "#fdca26"
             ],
             [
              1,
              "#f0f921"
             ]
            ],
            "type": "heatmap"
           }
          ],
          "heatmapgl": [
           {
            "colorbar": {
             "outlinewidth": 0,
             "ticks": ""
            },
            "colorscale": [
             [
              0,
              "#0d0887"
             ],
             [
              0.1111111111111111,
              "#46039f"
             ],
             [
              0.2222222222222222,
              "#7201a8"
             ],
             [
              0.3333333333333333,
              "#9c179e"
             ],
             [
              0.4444444444444444,
              "#bd3786"
             ],
             [
              0.5555555555555556,
              "#d8576b"
             ],
             [
              0.6666666666666666,
              "#ed7953"
             ],
             [
              0.7777777777777778,
              "#fb9f3a"
             ],
             [
              0.8888888888888888,
              "#fdca26"
             ],
             [
              1,
              "#f0f921"
             ]
            ],
            "type": "heatmapgl"
           }
          ],
          "histogram": [
           {
            "marker": {
             "pattern": {
              "fillmode": "overlay",
              "size": 10,
              "solidity": 0.2
             }
            },
            "type": "histogram"
           }
          ],
          "histogram2d": [
           {
            "colorbar": {
             "outlinewidth": 0,
             "ticks": ""
            },
            "colorscale": [
             [
              0,
              "#0d0887"
             ],
             [
              0.1111111111111111,
              "#46039f"
             ],
             [
              0.2222222222222222,
              "#7201a8"
             ],
             [
              0.3333333333333333,
              "#9c179e"
             ],
             [
              0.4444444444444444,
              "#bd3786"
             ],
             [
              0.5555555555555556,
              "#d8576b"
             ],
             [
              0.6666666666666666,
              "#ed7953"
             ],
             [
              0.7777777777777778,
              "#fb9f3a"
             ],
             [
              0.8888888888888888,
              "#fdca26"
             ],
             [
              1,
              "#f0f921"
             ]
            ],
            "type": "histogram2d"
           }
          ],
          "histogram2dcontour": [
           {
            "colorbar": {
             "outlinewidth": 0,
             "ticks": ""
            },
            "colorscale": [
             [
              0,
              "#0d0887"
             ],
             [
              0.1111111111111111,
              "#46039f"
             ],
             [
              0.2222222222222222,
              "#7201a8"
             ],
             [
              0.3333333333333333,
              "#9c179e"
             ],
             [
              0.4444444444444444,
              "#bd3786"
             ],
             [
              0.5555555555555556,
              "#d8576b"
             ],
             [
              0.6666666666666666,
              "#ed7953"
             ],
             [
              0.7777777777777778,
              "#fb9f3a"
             ],
             [
              0.8888888888888888,
              "#fdca26"
             ],
             [
              1,
              "#f0f921"
             ]
            ],
            "type": "histogram2dcontour"
           }
          ],
          "mesh3d": [
           {
            "colorbar": {
             "outlinewidth": 0,
             "ticks": ""
            },
            "type": "mesh3d"
           }
          ],
          "parcoords": [
           {
            "line": {
             "colorbar": {
              "outlinewidth": 0,
              "ticks": ""
             }
            },
            "type": "parcoords"
           }
          ],
          "pie": [
           {
            "automargin": true,
            "type": "pie"
           }
          ],
          "scatter": [
           {
            "fillpattern": {
             "fillmode": "overlay",
             "size": 10,
             "solidity": 0.2
            },
            "type": "scatter"
           }
          ],
          "scatter3d": [
           {
            "line": {
             "colorbar": {
              "outlinewidth": 0,
              "ticks": ""
             }
            },
            "marker": {
             "colorbar": {
              "outlinewidth": 0,
              "ticks": ""
             }
            },
            "type": "scatter3d"
           }
          ],
          "scattercarpet": [
           {
            "marker": {
             "colorbar": {
              "outlinewidth": 0,
              "ticks": ""
             }
            },
            "type": "scattercarpet"
           }
          ],
          "scattergeo": [
           {
            "marker": {
             "colorbar": {
              "outlinewidth": 0,
              "ticks": ""
             }
            },
            "type": "scattergeo"
           }
          ],
          "scattergl": [
           {
            "marker": {
             "colorbar": {
              "outlinewidth": 0,
              "ticks": ""
             }
            },
            "type": "scattergl"
           }
          ],
          "scattermapbox": [
           {
            "marker": {
             "colorbar": {
              "outlinewidth": 0,
              "ticks": ""
             }
            },
            "type": "scattermapbox"
           }
          ],
          "scatterpolar": [
           {
            "marker": {
             "colorbar": {
              "outlinewidth": 0,
              "ticks": ""
             }
            },
            "type": "scatterpolar"
           }
          ],
          "scatterpolargl": [
           {
            "marker": {
             "colorbar": {
              "outlinewidth": 0,
              "ticks": ""
             }
            },
            "type": "scatterpolargl"
           }
          ],
          "scatterternary": [
           {
            "marker": {
             "colorbar": {
              "outlinewidth": 0,
              "ticks": ""
             }
            },
            "type": "scatterternary"
           }
          ],
          "surface": [
           {
            "colorbar": {
             "outlinewidth": 0,
             "ticks": ""
            },
            "colorscale": [
             [
              0,
              "#0d0887"
             ],
             [
              0.1111111111111111,
              "#46039f"
             ],
             [
              0.2222222222222222,
              "#7201a8"
             ],
             [
              0.3333333333333333,
              "#9c179e"
             ],
             [
              0.4444444444444444,
              "#bd3786"
             ],
             [
              0.5555555555555556,
              "#d8576b"
             ],
             [
              0.6666666666666666,
              "#ed7953"
             ],
             [
              0.7777777777777778,
              "#fb9f3a"
             ],
             [
              0.8888888888888888,
              "#fdca26"
             ],
             [
              1,
              "#f0f921"
             ]
            ],
            "type": "surface"
           }
          ],
          "table": [
           {
            "cells": {
             "fill": {
              "color": "#EBF0F8"
             },
             "line": {
              "color": "white"
             }
            },
            "header": {
             "fill": {
              "color": "#C8D4E3"
             },
             "line": {
              "color": "white"
             }
            },
            "type": "table"
           }
          ]
         },
         "layout": {
          "annotationdefaults": {
           "arrowcolor": "#2a3f5f",
           "arrowhead": 0,
           "arrowwidth": 1
          },
          "autotypenumbers": "strict",
          "coloraxis": {
           "colorbar": {
            "outlinewidth": 0,
            "ticks": ""
           }
          },
          "colorscale": {
           "diverging": [
            [
             0,
             "#8e0152"
            ],
            [
             0.1,
             "#c51b7d"
            ],
            [
             0.2,
             "#de77ae"
            ],
            [
             0.3,
             "#f1b6da"
            ],
            [
             0.4,
             "#fde0ef"
            ],
            [
             0.5,
             "#f7f7f7"
            ],
            [
             0.6,
             "#e6f5d0"
            ],
            [
             0.7,
             "#b8e186"
            ],
            [
             0.8,
             "#7fbc41"
            ],
            [
             0.9,
             "#4d9221"
            ],
            [
             1,
             "#276419"
            ]
           ],
           "sequential": [
            [
             0,
             "#0d0887"
            ],
            [
             0.1111111111111111,
             "#46039f"
            ],
            [
             0.2222222222222222,
             "#7201a8"
            ],
            [
             0.3333333333333333,
             "#9c179e"
            ],
            [
             0.4444444444444444,
             "#bd3786"
            ],
            [
             0.5555555555555556,
             "#d8576b"
            ],
            [
             0.6666666666666666,
             "#ed7953"
            ],
            [
             0.7777777777777778,
             "#fb9f3a"
            ],
            [
             0.8888888888888888,
             "#fdca26"
            ],
            [
             1,
             "#f0f921"
            ]
           ],
           "sequentialminus": [
            [
             0,
             "#0d0887"
            ],
            [
             0.1111111111111111,
             "#46039f"
            ],
            [
             0.2222222222222222,
             "#7201a8"
            ],
            [
             0.3333333333333333,
             "#9c179e"
            ],
            [
             0.4444444444444444,
             "#bd3786"
            ],
            [
             0.5555555555555556,
             "#d8576b"
            ],
            [
             0.6666666666666666,
             "#ed7953"
            ],
            [
             0.7777777777777778,
             "#fb9f3a"
            ],
            [
             0.8888888888888888,
             "#fdca26"
            ],
            [
             1,
             "#f0f921"
            ]
           ]
          },
          "colorway": [
           "#636efa",
           "#EF553B",
           "#00cc96",
           "#ab63fa",
           "#FFA15A",
           "#19d3f3",
           "#FF6692",
           "#B6E880",
           "#FF97FF",
           "#FECB52"
          ],
          "font": {
           "color": "#2a3f5f"
          },
          "geo": {
           "bgcolor": "white",
           "lakecolor": "white",
           "landcolor": "#E5ECF6",
           "showlakes": true,
           "showland": true,
           "subunitcolor": "white"
          },
          "hoverlabel": {
           "align": "left"
          },
          "hovermode": "closest",
          "mapbox": {
           "style": "light"
          },
          "paper_bgcolor": "white",
          "plot_bgcolor": "#E5ECF6",
          "polar": {
           "angularaxis": {
            "gridcolor": "white",
            "linecolor": "white",
            "ticks": ""
           },
           "bgcolor": "#E5ECF6",
           "radialaxis": {
            "gridcolor": "white",
            "linecolor": "white",
            "ticks": ""
           }
          },
          "scene": {
           "xaxis": {
            "backgroundcolor": "#E5ECF6",
            "gridcolor": "white",
            "gridwidth": 2,
            "linecolor": "white",
            "showbackground": true,
            "ticks": "",
            "zerolinecolor": "white"
           },
           "yaxis": {
            "backgroundcolor": "#E5ECF6",
            "gridcolor": "white",
            "gridwidth": 2,
            "linecolor": "white",
            "showbackground": true,
            "ticks": "",
            "zerolinecolor": "white"
           },
           "zaxis": {
            "backgroundcolor": "#E5ECF6",
            "gridcolor": "white",
            "gridwidth": 2,
            "linecolor": "white",
            "showbackground": true,
            "ticks": "",
            "zerolinecolor": "white"
           }
          },
          "shapedefaults": {
           "line": {
            "color": "#2a3f5f"
           }
          },
          "ternary": {
           "aaxis": {
            "gridcolor": "white",
            "linecolor": "white",
            "ticks": ""
           },
           "baxis": {
            "gridcolor": "white",
            "linecolor": "white",
            "ticks": ""
           },
           "bgcolor": "#E5ECF6",
           "caxis": {
            "gridcolor": "white",
            "linecolor": "white",
            "ticks": ""
           }
          },
          "title": {
           "x": 0.05
          },
          "xaxis": {
           "automargin": true,
           "gridcolor": "white",
           "linecolor": "white",
           "ticks": "",
           "title": {
            "standoff": 15
           },
           "zerolinecolor": "white",
           "zerolinewidth": 2
          },
          "yaxis": {
           "automargin": true,
           "gridcolor": "white",
           "linecolor": "white",
           "ticks": "",
           "title": {
            "standoff": 15
           },
           "zerolinecolor": "white",
           "zerolinewidth": 2
          }
         }
        },
        "title": {
         "text": "Curva ROC de todos los modelos"
        },
        "xaxis": {
         "title": {
          "text": "False Positive Rate"
         }
        },
        "yaxis": {
         "title": {
          "text": "True Positive Rate"
         }
        }
       }
      }
     },
     "metadata": {},
     "output_type": "display_data"
    }
   ],
   "source": [
    "plot_roc_curve_plotly(modelos)"
   ]
  },
  {
   "cell_type": "markdown",
   "metadata": {},
   "source": [
    "## Guardado de los resultados sobre el catálogo de Features"
   ]
  },
  {
   "cell_type": "code",
   "execution_count": 32,
   "metadata": {},
   "outputs": [],
   "source": [
    "with open(path_base + r\"\\\\models\\features.json\", 'w') as archivo:\n",
    "    json.dump(featuresDicc, archivo)"
   ]
  }
 ],
 "metadata": {
  "kernelspec": {
   "display_name": "Python 3",
   "language": "python",
   "name": "python3"
  },
  "language_info": {
   "codemirror_mode": {
    "name": "ipython",
    "version": 3
   },
   "file_extension": ".py",
   "mimetype": "text/x-python",
   "name": "python",
   "nbconvert_exporter": "python",
   "pygments_lexer": "ipython3",
   "version": "3.11.0"
  }
 },
 "nbformat": 4,
 "nbformat_minor": 2
}
